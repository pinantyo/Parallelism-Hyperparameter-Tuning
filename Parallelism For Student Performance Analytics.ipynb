{
  "nbformat": 4,
  "nbformat_minor": 0,
  "metadata": {
    "colab": {
      "name": "PML / PEMPAR SVM.ipynb",
      "provenance": [],
      "collapsed_sections": [
        "KeICEX_0cNh0"
      ]
    },
    "kernelspec": {
      "name": "python3",
      "display_name": "Python 3"
    },
    "language_info": {
      "name": "python"
    },
    "accelerator": "GPU"
  },
  "cells": [
    {
      "cell_type": "markdown",
      "metadata": {
        "id": "q-9_PWKYC7uY"
      },
      "source": [
        "https://www.kaggle.com/larsen0966/student-performance-data-set/tasks?taskId=6110 "
      ]
    },
    {
      "cell_type": "markdown",
      "metadata": {
        "id": "EZZYmYJizSqm"
      },
      "source": [
        "\n",
        "\n",
        "*   Adinda Ayu Azzahra (4519210056)\n",
        "*   Asyrie Chaeranie (4591210065)\n",
        "*   Mochammad Luthfie Dziki Muthaqien (4519210068)\n",
        "*   Shafa Salsabila Pribadi (4519210070)\n",
        "*   Steven Christ Pinantyo Arwidarasto (4519210060)\n",
        "\n"
      ]
    },
    {
      "cell_type": "markdown",
      "source": [
        "# Attributes:\n",
        "* school - student's school (binary: 'GP' - Gabriel Pereira or 'MS' - Mousinho da Silveira)\n",
        "* sex - student's sex (binary: 'F' - female or 'M' - male)\n",
        "* age - student's age (numeric: from 15 to 22)\n",
        "* address - student's home address type (binary: 'U' - urban or 'R' - rural)\n",
        "* famsize - family size (binary: 'LE3' - less or equal to 3 or 'GT3' - greater than 3)\n",
        "* Pstatus - parent's cohabitation status (binary: 'T' - living together or 'A' - apart)\n",
        "* Medu - mother's education (numeric: 0 - none, 1 - primary education (4th grade), 2 - 5th to 9th grade, 3 - secondary education or 4 - higher education)\n",
        "* Fedu - father's education (numeric: 0 - none, 1 - primary education (4th grade), 2 - 5th to 9th grade, 3 - secondary education or 4 - higher education)\n",
        "* Mjob - mother's job (nominal: 'teacher', 'health' care related, civil 'services' (e.g. administrative or police), 'at_home' or 'other')\n",
        "* Fjob - father's job (nominal: 'teacher', 'health' care related, civil 'services' (e.g. administrative or police), 'at_home' or 'other')\n",
        "* reason - reason to choose this school (nominal: close to 'home', school 'reputation', 'course' preference or 'other')\n",
        "* guardian - student's guardian (nominal: 'mother', 'father' or 'other')\n",
        "* traveltime - home to school travel time (numeric: 1 - <15 min., 2 - 15 to 30 min., 3 - 30 min. to 1 hour, or 4 - >1 hour)\n",
        "* studytime - weekly study time (numeric: 1 - <2 hours, 2 - 2 to 5 hours, 3 - 5 to 10 hours, or 4 - >10 hours)\n",
        "* failures - number of past class failures (numeric: n if 1<=n<3, else 4)\n",
        "* schoolsup - extra educational support (binary: yes or no)\n",
        "* famsup - family educational support (binary: yes or no)\n",
        "* paid - extra paid classes within the course subject (Math or Portuguese) (binary: yes or no)\n",
        "* activities - extra-curricular activities (binary: yes or no)\n",
        "* nursery - attended nursery school (binary: yes or no)\n",
        "* higher - wants to take higher education (binary: yes or no)\n",
        "* internet - Internet access at home (binary: yes or no)\n",
        "* romantic - with a romantic relationship (binary: yes or no)\n",
        "* famrel - quality of family relationships (numeric: from 1 - very bad to 5 - excellent)\n",
        "* freetime - free time after school (numeric: from 1 - very low to 5 - very high)\n",
        "* goout - going out with friends (numeric: from 1 - very low to 5 - very high)\n",
        "* Dalc - workday alcohol consumption (numeric: from 1 - very low to 5 - very high)\n",
        "* Walc - weekend alcohol consumption (numeric: from 1 - very low to 5 - very high)\n",
        "* health - current health status (numeric: from 1 - very bad to 5 - very good)\n",
        "* absences - number of school absences (numeric: from 0 to 93)\n",
        "* G1 - first period grade (numeric: from 0 to 20)\n",
        "* G2 - second period grade (numeric: from 0 to 20)\n",
        "* G3 - final grade (numeric: from 0 to 20, output target)"
      ],
      "metadata": {
        "id": "DRwnV7fL1o3Y"
      }
    },
    {
      "cell_type": "markdown",
      "metadata": {
        "id": "olkglhWB9y1e"
      },
      "source": [
        "# **Import lib yang akan digunakan**"
      ]
    },
    {
      "cell_type": "code",
      "metadata": {
        "id": "AvULua7bXAZe"
      },
      "source": [
        "import numpy as np\n",
        "import matplotlib.pyplot as plt\n",
        "import pandas as pd\n",
        "import seaborn as sns\n",
        "from sklearn import svm\n",
        "from sklearn.preprocessing import LabelEncoder\n",
        "from sklearn.model_selection import train_test_split\n",
        "# from sklearn.preprocessing import MinMaxScaler\n",
        "from sklearn import metrics\n",
        "from pandas.plotting import radviz"
      ],
      "execution_count": null,
      "outputs": []
    },
    {
      "cell_type": "markdown",
      "metadata": {
        "id": "TR_cgj09949w"
      },
      "source": [
        "# **Mengambil dataset**"
      ]
    },
    {
      "cell_type": "code",
      "metadata": {
        "colab": {
          "base_uri": "https://localhost:8080/",
          "height": 270
        },
        "id": "lf3-bHp9Xv-l",
        "outputId": "2a658c03-4268-4965-ac92-9f8fd6711d37"
      },
      "source": [
        "df = pd.read_csv(\"/content/student-mat-modified.csv\")\n",
        "df.head()"
      ],
      "execution_count": null,
      "outputs": [
        {
          "output_type": "execute_result",
          "data": {
            "text/html": [
              "\n",
              "  <div id=\"df-e13c6eb2-b28d-4ea0-b871-56a8901dd763\">\n",
              "    <div class=\"colab-df-container\">\n",
              "      <div>\n",
              "<style scoped>\n",
              "    .dataframe tbody tr th:only-of-type {\n",
              "        vertical-align: middle;\n",
              "    }\n",
              "\n",
              "    .dataframe tbody tr th {\n",
              "        vertical-align: top;\n",
              "    }\n",
              "\n",
              "    .dataframe thead th {\n",
              "        text-align: right;\n",
              "    }\n",
              "</style>\n",
              "<table border=\"1\" class=\"dataframe\">\n",
              "  <thead>\n",
              "    <tr style=\"text-align: right;\">\n",
              "      <th></th>\n",
              "      <th>school</th>\n",
              "      <th>sex</th>\n",
              "      <th>age</th>\n",
              "      <th>address</th>\n",
              "      <th>famsize</th>\n",
              "      <th>Pstatus</th>\n",
              "      <th>Medu</th>\n",
              "      <th>Fedu</th>\n",
              "      <th>Mjob</th>\n",
              "      <th>Fjob</th>\n",
              "      <th>reason</th>\n",
              "      <th>guardian</th>\n",
              "      <th>traveltime</th>\n",
              "      <th>studytime</th>\n",
              "      <th>failures</th>\n",
              "      <th>schoolsup</th>\n",
              "      <th>famsup</th>\n",
              "      <th>paid</th>\n",
              "      <th>activities</th>\n",
              "      <th>nursery</th>\n",
              "      <th>higher</th>\n",
              "      <th>internet</th>\n",
              "      <th>romantic</th>\n",
              "      <th>famrel</th>\n",
              "      <th>freetime</th>\n",
              "      <th>goout</th>\n",
              "      <th>Dalc</th>\n",
              "      <th>Walc</th>\n",
              "      <th>health</th>\n",
              "      <th>absences</th>\n",
              "      <th>G1</th>\n",
              "      <th>G2</th>\n",
              "      <th>G3</th>\n",
              "      <th>status</th>\n",
              "    </tr>\n",
              "  </thead>\n",
              "  <tbody>\n",
              "    <tr>\n",
              "      <th>0</th>\n",
              "      <td>GP</td>\n",
              "      <td>F</td>\n",
              "      <td>18</td>\n",
              "      <td>U</td>\n",
              "      <td>GT3</td>\n",
              "      <td>A</td>\n",
              "      <td>4</td>\n",
              "      <td>4</td>\n",
              "      <td>at_home</td>\n",
              "      <td>teacher</td>\n",
              "      <td>course</td>\n",
              "      <td>mother</td>\n",
              "      <td>2</td>\n",
              "      <td>2</td>\n",
              "      <td>0</td>\n",
              "      <td>yes</td>\n",
              "      <td>no</td>\n",
              "      <td>no</td>\n",
              "      <td>no</td>\n",
              "      <td>yes</td>\n",
              "      <td>yes</td>\n",
              "      <td>no</td>\n",
              "      <td>no</td>\n",
              "      <td>4</td>\n",
              "      <td>3</td>\n",
              "      <td>4</td>\n",
              "      <td>1</td>\n",
              "      <td>1</td>\n",
              "      <td>3</td>\n",
              "      <td>6</td>\n",
              "      <td>5</td>\n",
              "      <td>6</td>\n",
              "      <td>6</td>\n",
              "      <td>Fail</td>\n",
              "    </tr>\n",
              "    <tr>\n",
              "      <th>1</th>\n",
              "      <td>GP</td>\n",
              "      <td>F</td>\n",
              "      <td>17</td>\n",
              "      <td>U</td>\n",
              "      <td>GT3</td>\n",
              "      <td>T</td>\n",
              "      <td>1</td>\n",
              "      <td>1</td>\n",
              "      <td>at_home</td>\n",
              "      <td>other</td>\n",
              "      <td>course</td>\n",
              "      <td>father</td>\n",
              "      <td>1</td>\n",
              "      <td>2</td>\n",
              "      <td>0</td>\n",
              "      <td>no</td>\n",
              "      <td>yes</td>\n",
              "      <td>no</td>\n",
              "      <td>no</td>\n",
              "      <td>no</td>\n",
              "      <td>yes</td>\n",
              "      <td>yes</td>\n",
              "      <td>no</td>\n",
              "      <td>5</td>\n",
              "      <td>3</td>\n",
              "      <td>3</td>\n",
              "      <td>1</td>\n",
              "      <td>1</td>\n",
              "      <td>3</td>\n",
              "      <td>4</td>\n",
              "      <td>5</td>\n",
              "      <td>5</td>\n",
              "      <td>6</td>\n",
              "      <td>Fail</td>\n",
              "    </tr>\n",
              "    <tr>\n",
              "      <th>2</th>\n",
              "      <td>GP</td>\n",
              "      <td>F</td>\n",
              "      <td>15</td>\n",
              "      <td>U</td>\n",
              "      <td>LE3</td>\n",
              "      <td>T</td>\n",
              "      <td>1</td>\n",
              "      <td>1</td>\n",
              "      <td>at_home</td>\n",
              "      <td>other</td>\n",
              "      <td>other</td>\n",
              "      <td>mother</td>\n",
              "      <td>1</td>\n",
              "      <td>2</td>\n",
              "      <td>3</td>\n",
              "      <td>yes</td>\n",
              "      <td>no</td>\n",
              "      <td>yes</td>\n",
              "      <td>no</td>\n",
              "      <td>yes</td>\n",
              "      <td>yes</td>\n",
              "      <td>yes</td>\n",
              "      <td>no</td>\n",
              "      <td>4</td>\n",
              "      <td>3</td>\n",
              "      <td>2</td>\n",
              "      <td>2</td>\n",
              "      <td>3</td>\n",
              "      <td>3</td>\n",
              "      <td>10</td>\n",
              "      <td>7</td>\n",
              "      <td>8</td>\n",
              "      <td>10</td>\n",
              "      <td>Fail</td>\n",
              "    </tr>\n",
              "    <tr>\n",
              "      <th>3</th>\n",
              "      <td>GP</td>\n",
              "      <td>F</td>\n",
              "      <td>15</td>\n",
              "      <td>U</td>\n",
              "      <td>GT3</td>\n",
              "      <td>T</td>\n",
              "      <td>4</td>\n",
              "      <td>2</td>\n",
              "      <td>health</td>\n",
              "      <td>services</td>\n",
              "      <td>home</td>\n",
              "      <td>mother</td>\n",
              "      <td>1</td>\n",
              "      <td>3</td>\n",
              "      <td>0</td>\n",
              "      <td>no</td>\n",
              "      <td>yes</td>\n",
              "      <td>yes</td>\n",
              "      <td>yes</td>\n",
              "      <td>yes</td>\n",
              "      <td>yes</td>\n",
              "      <td>yes</td>\n",
              "      <td>yes</td>\n",
              "      <td>3</td>\n",
              "      <td>2</td>\n",
              "      <td>2</td>\n",
              "      <td>1</td>\n",
              "      <td>1</td>\n",
              "      <td>5</td>\n",
              "      <td>2</td>\n",
              "      <td>15</td>\n",
              "      <td>14</td>\n",
              "      <td>15</td>\n",
              "      <td>Pass</td>\n",
              "    </tr>\n",
              "    <tr>\n",
              "      <th>4</th>\n",
              "      <td>GP</td>\n",
              "      <td>F</td>\n",
              "      <td>16</td>\n",
              "      <td>U</td>\n",
              "      <td>GT3</td>\n",
              "      <td>T</td>\n",
              "      <td>3</td>\n",
              "      <td>3</td>\n",
              "      <td>other</td>\n",
              "      <td>other</td>\n",
              "      <td>home</td>\n",
              "      <td>father</td>\n",
              "      <td>1</td>\n",
              "      <td>2</td>\n",
              "      <td>0</td>\n",
              "      <td>no</td>\n",
              "      <td>yes</td>\n",
              "      <td>yes</td>\n",
              "      <td>no</td>\n",
              "      <td>yes</td>\n",
              "      <td>yes</td>\n",
              "      <td>no</td>\n",
              "      <td>no</td>\n",
              "      <td>4</td>\n",
              "      <td>3</td>\n",
              "      <td>2</td>\n",
              "      <td>1</td>\n",
              "      <td>2</td>\n",
              "      <td>5</td>\n",
              "      <td>4</td>\n",
              "      <td>6</td>\n",
              "      <td>10</td>\n",
              "      <td>10</td>\n",
              "      <td>Fail</td>\n",
              "    </tr>\n",
              "  </tbody>\n",
              "</table>\n",
              "</div>\n",
              "      <button class=\"colab-df-convert\" onclick=\"convertToInteractive('df-e13c6eb2-b28d-4ea0-b871-56a8901dd763')\"\n",
              "              title=\"Convert this dataframe to an interactive table.\"\n",
              "              style=\"display:none;\">\n",
              "        \n",
              "  <svg xmlns=\"http://www.w3.org/2000/svg\" height=\"24px\"viewBox=\"0 0 24 24\"\n",
              "       width=\"24px\">\n",
              "    <path d=\"M0 0h24v24H0V0z\" fill=\"none\"/>\n",
              "    <path d=\"M18.56 5.44l.94 2.06.94-2.06 2.06-.94-2.06-.94-.94-2.06-.94 2.06-2.06.94zm-11 1L8.5 8.5l.94-2.06 2.06-.94-2.06-.94L8.5 2.5l-.94 2.06-2.06.94zm10 10l.94 2.06.94-2.06 2.06-.94-2.06-.94-.94-2.06-.94 2.06-2.06.94z\"/><path d=\"M17.41 7.96l-1.37-1.37c-.4-.4-.92-.59-1.43-.59-.52 0-1.04.2-1.43.59L10.3 9.45l-7.72 7.72c-.78.78-.78 2.05 0 2.83L4 21.41c.39.39.9.59 1.41.59.51 0 1.02-.2 1.41-.59l7.78-7.78 2.81-2.81c.8-.78.8-2.07 0-2.86zM5.41 20L4 18.59l7.72-7.72 1.47 1.35L5.41 20z\"/>\n",
              "  </svg>\n",
              "      </button>\n",
              "      \n",
              "  <style>\n",
              "    .colab-df-container {\n",
              "      display:flex;\n",
              "      flex-wrap:wrap;\n",
              "      gap: 12px;\n",
              "    }\n",
              "\n",
              "    .colab-df-convert {\n",
              "      background-color: #E8F0FE;\n",
              "      border: none;\n",
              "      border-radius: 50%;\n",
              "      cursor: pointer;\n",
              "      display: none;\n",
              "      fill: #1967D2;\n",
              "      height: 32px;\n",
              "      padding: 0 0 0 0;\n",
              "      width: 32px;\n",
              "    }\n",
              "\n",
              "    .colab-df-convert:hover {\n",
              "      background-color: #E2EBFA;\n",
              "      box-shadow: 0px 1px 2px rgba(60, 64, 67, 0.3), 0px 1px 3px 1px rgba(60, 64, 67, 0.15);\n",
              "      fill: #174EA6;\n",
              "    }\n",
              "\n",
              "    [theme=dark] .colab-df-convert {\n",
              "      background-color: #3B4455;\n",
              "      fill: #D2E3FC;\n",
              "    }\n",
              "\n",
              "    [theme=dark] .colab-df-convert:hover {\n",
              "      background-color: #434B5C;\n",
              "      box-shadow: 0px 1px 3px 1px rgba(0, 0, 0, 0.15);\n",
              "      filter: drop-shadow(0px 1px 2px rgba(0, 0, 0, 0.3));\n",
              "      fill: #FFFFFF;\n",
              "    }\n",
              "  </style>\n",
              "\n",
              "      <script>\n",
              "        const buttonEl =\n",
              "          document.querySelector('#df-e13c6eb2-b28d-4ea0-b871-56a8901dd763 button.colab-df-convert');\n",
              "        buttonEl.style.display =\n",
              "          google.colab.kernel.accessAllowed ? 'block' : 'none';\n",
              "\n",
              "        async function convertToInteractive(key) {\n",
              "          const element = document.querySelector('#df-e13c6eb2-b28d-4ea0-b871-56a8901dd763');\n",
              "          const dataTable =\n",
              "            await google.colab.kernel.invokeFunction('convertToInteractive',\n",
              "                                                     [key], {});\n",
              "          if (!dataTable) return;\n",
              "\n",
              "          const docLinkHtml = 'Like what you see? Visit the ' +\n",
              "            '<a target=\"_blank\" href=https://colab.research.google.com/notebooks/data_table.ipynb>data table notebook</a>'\n",
              "            + ' to learn more about interactive tables.';\n",
              "          element.innerHTML = '';\n",
              "          dataTable['output_type'] = 'display_data';\n",
              "          await google.colab.output.renderOutput(dataTable, element);\n",
              "          const docLink = document.createElement('div');\n",
              "          docLink.innerHTML = docLinkHtml;\n",
              "          element.appendChild(docLink);\n",
              "        }\n",
              "      </script>\n",
              "    </div>\n",
              "  </div>\n",
              "  "
            ],
            "text/plain": [
              "  school sex  age address famsize Pstatus  ...  health  absences  G1  G2  G3 status\n",
              "0     GP   F   18       U     GT3       A  ...       3         6   5   6   6   Fail\n",
              "1     GP   F   17       U     GT3       T  ...       3         4   5   5   6   Fail\n",
              "2     GP   F   15       U     LE3       T  ...       3        10   7   8  10   Fail\n",
              "3     GP   F   15       U     GT3       T  ...       5         2  15  14  15   Pass\n",
              "4     GP   F   16       U     GT3       T  ...       5         4   6  10  10   Fail\n",
              "\n",
              "[5 rows x 34 columns]"
            ]
          },
          "metadata": {},
          "execution_count": 62
        }
      ]
    },
    {
      "cell_type": "markdown",
      "metadata": {
        "id": "KeICEX_0cNh0"
      },
      "source": [
        "# **EDA (Explanatory Data Analysis)**"
      ]
    },
    {
      "cell_type": "markdown",
      "metadata": {
        "id": "eOSy4FiE32rT"
      },
      "source": [
        "\n",
        "> Fungsi describe mengembalikan nilai statistik dari data. Nilai statistik ini sangat berguna dalam melihat outlier pada data ataupun menentukan apakah data perlu dinormalisasikan atau tidak"
      ]
    },
    {
      "cell_type": "code",
      "metadata": {
        "colab": {
          "base_uri": "https://localhost:8080/"
        },
        "id": "dxiA9Y1wY2-c",
        "outputId": "cbff6051-18d3-4b92-a4d5-9072be6ee806"
      },
      "source": [
        "df.describe()"
      ],
      "execution_count": null,
      "outputs": [
        {
          "output_type": "execute_result",
          "data": {
            "text/html": [
              "\n",
              "  <div id=\"df-2ac2555a-5b69-42fe-b74f-64d68161658f\">\n",
              "    <div class=\"colab-df-container\">\n",
              "      <div>\n",
              "<style scoped>\n",
              "    .dataframe tbody tr th:only-of-type {\n",
              "        vertical-align: middle;\n",
              "    }\n",
              "\n",
              "    .dataframe tbody tr th {\n",
              "        vertical-align: top;\n",
              "    }\n",
              "\n",
              "    .dataframe thead th {\n",
              "        text-align: right;\n",
              "    }\n",
              "</style>\n",
              "<table border=\"1\" class=\"dataframe\">\n",
              "  <thead>\n",
              "    <tr style=\"text-align: right;\">\n",
              "      <th></th>\n",
              "      <th>age</th>\n",
              "      <th>Medu</th>\n",
              "      <th>Fedu</th>\n",
              "      <th>traveltime</th>\n",
              "      <th>studytime</th>\n",
              "      <th>failures</th>\n",
              "      <th>famrel</th>\n",
              "      <th>freetime</th>\n",
              "      <th>goout</th>\n",
              "      <th>Dalc</th>\n",
              "      <th>Walc</th>\n",
              "      <th>health</th>\n",
              "      <th>absences</th>\n",
              "      <th>G1</th>\n",
              "      <th>G2</th>\n",
              "      <th>G3</th>\n",
              "    </tr>\n",
              "  </thead>\n",
              "  <tbody>\n",
              "    <tr>\n",
              "      <th>count</th>\n",
              "      <td>395.000000</td>\n",
              "      <td>395.000000</td>\n",
              "      <td>395.000000</td>\n",
              "      <td>395.000000</td>\n",
              "      <td>395.000000</td>\n",
              "      <td>395.000000</td>\n",
              "      <td>395.000000</td>\n",
              "      <td>395.000000</td>\n",
              "      <td>395.000000</td>\n",
              "      <td>395.000000</td>\n",
              "      <td>395.000000</td>\n",
              "      <td>395.000000</td>\n",
              "      <td>395.000000</td>\n",
              "      <td>395.000000</td>\n",
              "      <td>395.000000</td>\n",
              "      <td>395.000000</td>\n",
              "    </tr>\n",
              "    <tr>\n",
              "      <th>mean</th>\n",
              "      <td>16.696203</td>\n",
              "      <td>2.749367</td>\n",
              "      <td>2.521519</td>\n",
              "      <td>1.448101</td>\n",
              "      <td>2.035443</td>\n",
              "      <td>0.334177</td>\n",
              "      <td>3.944304</td>\n",
              "      <td>3.235443</td>\n",
              "      <td>3.108861</td>\n",
              "      <td>1.481013</td>\n",
              "      <td>2.291139</td>\n",
              "      <td>3.554430</td>\n",
              "      <td>5.708861</td>\n",
              "      <td>10.908861</td>\n",
              "      <td>10.713924</td>\n",
              "      <td>10.415190</td>\n",
              "    </tr>\n",
              "    <tr>\n",
              "      <th>std</th>\n",
              "      <td>1.276043</td>\n",
              "      <td>1.094735</td>\n",
              "      <td>1.088201</td>\n",
              "      <td>0.697505</td>\n",
              "      <td>0.839240</td>\n",
              "      <td>0.743651</td>\n",
              "      <td>0.896659</td>\n",
              "      <td>0.998862</td>\n",
              "      <td>1.113278</td>\n",
              "      <td>0.890741</td>\n",
              "      <td>1.287897</td>\n",
              "      <td>1.390303</td>\n",
              "      <td>8.003096</td>\n",
              "      <td>3.319195</td>\n",
              "      <td>3.761505</td>\n",
              "      <td>4.581443</td>\n",
              "    </tr>\n",
              "    <tr>\n",
              "      <th>min</th>\n",
              "      <td>15.000000</td>\n",
              "      <td>0.000000</td>\n",
              "      <td>0.000000</td>\n",
              "      <td>1.000000</td>\n",
              "      <td>1.000000</td>\n",
              "      <td>0.000000</td>\n",
              "      <td>1.000000</td>\n",
              "      <td>1.000000</td>\n",
              "      <td>1.000000</td>\n",
              "      <td>1.000000</td>\n",
              "      <td>1.000000</td>\n",
              "      <td>1.000000</td>\n",
              "      <td>0.000000</td>\n",
              "      <td>3.000000</td>\n",
              "      <td>0.000000</td>\n",
              "      <td>0.000000</td>\n",
              "    </tr>\n",
              "    <tr>\n",
              "      <th>25%</th>\n",
              "      <td>16.000000</td>\n",
              "      <td>2.000000</td>\n",
              "      <td>2.000000</td>\n",
              "      <td>1.000000</td>\n",
              "      <td>1.000000</td>\n",
              "      <td>0.000000</td>\n",
              "      <td>4.000000</td>\n",
              "      <td>3.000000</td>\n",
              "      <td>2.000000</td>\n",
              "      <td>1.000000</td>\n",
              "      <td>1.000000</td>\n",
              "      <td>3.000000</td>\n",
              "      <td>0.000000</td>\n",
              "      <td>8.000000</td>\n",
              "      <td>9.000000</td>\n",
              "      <td>8.000000</td>\n",
              "    </tr>\n",
              "    <tr>\n",
              "      <th>50%</th>\n",
              "      <td>17.000000</td>\n",
              "      <td>3.000000</td>\n",
              "      <td>2.000000</td>\n",
              "      <td>1.000000</td>\n",
              "      <td>2.000000</td>\n",
              "      <td>0.000000</td>\n",
              "      <td>4.000000</td>\n",
              "      <td>3.000000</td>\n",
              "      <td>3.000000</td>\n",
              "      <td>1.000000</td>\n",
              "      <td>2.000000</td>\n",
              "      <td>4.000000</td>\n",
              "      <td>4.000000</td>\n",
              "      <td>11.000000</td>\n",
              "      <td>11.000000</td>\n",
              "      <td>11.000000</td>\n",
              "    </tr>\n",
              "    <tr>\n",
              "      <th>75%</th>\n",
              "      <td>18.000000</td>\n",
              "      <td>4.000000</td>\n",
              "      <td>3.000000</td>\n",
              "      <td>2.000000</td>\n",
              "      <td>2.000000</td>\n",
              "      <td>0.000000</td>\n",
              "      <td>5.000000</td>\n",
              "      <td>4.000000</td>\n",
              "      <td>4.000000</td>\n",
              "      <td>2.000000</td>\n",
              "      <td>3.000000</td>\n",
              "      <td>5.000000</td>\n",
              "      <td>8.000000</td>\n",
              "      <td>13.000000</td>\n",
              "      <td>13.000000</td>\n",
              "      <td>14.000000</td>\n",
              "    </tr>\n",
              "    <tr>\n",
              "      <th>max</th>\n",
              "      <td>22.000000</td>\n",
              "      <td>4.000000</td>\n",
              "      <td>4.000000</td>\n",
              "      <td>4.000000</td>\n",
              "      <td>4.000000</td>\n",
              "      <td>3.000000</td>\n",
              "      <td>5.000000</td>\n",
              "      <td>5.000000</td>\n",
              "      <td>5.000000</td>\n",
              "      <td>5.000000</td>\n",
              "      <td>5.000000</td>\n",
              "      <td>5.000000</td>\n",
              "      <td>75.000000</td>\n",
              "      <td>19.000000</td>\n",
              "      <td>19.000000</td>\n",
              "      <td>20.000000</td>\n",
              "    </tr>\n",
              "  </tbody>\n",
              "</table>\n",
              "</div>\n",
              "      <button class=\"colab-df-convert\" onclick=\"convertToInteractive('df-2ac2555a-5b69-42fe-b74f-64d68161658f')\"\n",
              "              title=\"Convert this dataframe to an interactive table.\"\n",
              "              style=\"display:none;\">\n",
              "        \n",
              "  <svg xmlns=\"http://www.w3.org/2000/svg\" height=\"24px\"viewBox=\"0 0 24 24\"\n",
              "       width=\"24px\">\n",
              "    <path d=\"M0 0h24v24H0V0z\" fill=\"none\"/>\n",
              "    <path d=\"M18.56 5.44l.94 2.06.94-2.06 2.06-.94-2.06-.94-.94-2.06-.94 2.06-2.06.94zm-11 1L8.5 8.5l.94-2.06 2.06-.94-2.06-.94L8.5 2.5l-.94 2.06-2.06.94zm10 10l.94 2.06.94-2.06 2.06-.94-2.06-.94-.94-2.06-.94 2.06-2.06.94z\"/><path d=\"M17.41 7.96l-1.37-1.37c-.4-.4-.92-.59-1.43-.59-.52 0-1.04.2-1.43.59L10.3 9.45l-7.72 7.72c-.78.78-.78 2.05 0 2.83L4 21.41c.39.39.9.59 1.41.59.51 0 1.02-.2 1.41-.59l7.78-7.78 2.81-2.81c.8-.78.8-2.07 0-2.86zM5.41 20L4 18.59l7.72-7.72 1.47 1.35L5.41 20z\"/>\n",
              "  </svg>\n",
              "      </button>\n",
              "      \n",
              "  <style>\n",
              "    .colab-df-container {\n",
              "      display:flex;\n",
              "      flex-wrap:wrap;\n",
              "      gap: 12px;\n",
              "    }\n",
              "\n",
              "    .colab-df-convert {\n",
              "      background-color: #E8F0FE;\n",
              "      border: none;\n",
              "      border-radius: 50%;\n",
              "      cursor: pointer;\n",
              "      display: none;\n",
              "      fill: #1967D2;\n",
              "      height: 32px;\n",
              "      padding: 0 0 0 0;\n",
              "      width: 32px;\n",
              "    }\n",
              "\n",
              "    .colab-df-convert:hover {\n",
              "      background-color: #E2EBFA;\n",
              "      box-shadow: 0px 1px 2px rgba(60, 64, 67, 0.3), 0px 1px 3px 1px rgba(60, 64, 67, 0.15);\n",
              "      fill: #174EA6;\n",
              "    }\n",
              "\n",
              "    [theme=dark] .colab-df-convert {\n",
              "      background-color: #3B4455;\n",
              "      fill: #D2E3FC;\n",
              "    }\n",
              "\n",
              "    [theme=dark] .colab-df-convert:hover {\n",
              "      background-color: #434B5C;\n",
              "      box-shadow: 0px 1px 3px 1px rgba(0, 0, 0, 0.15);\n",
              "      filter: drop-shadow(0px 1px 2px rgba(0, 0, 0, 0.3));\n",
              "      fill: #FFFFFF;\n",
              "    }\n",
              "  </style>\n",
              "\n",
              "      <script>\n",
              "        const buttonEl =\n",
              "          document.querySelector('#df-2ac2555a-5b69-42fe-b74f-64d68161658f button.colab-df-convert');\n",
              "        buttonEl.style.display =\n",
              "          google.colab.kernel.accessAllowed ? 'block' : 'none';\n",
              "\n",
              "        async function convertToInteractive(key) {\n",
              "          const element = document.querySelector('#df-2ac2555a-5b69-42fe-b74f-64d68161658f');\n",
              "          const dataTable =\n",
              "            await google.colab.kernel.invokeFunction('convertToInteractive',\n",
              "                                                     [key], {});\n",
              "          if (!dataTable) return;\n",
              "\n",
              "          const docLinkHtml = 'Like what you see? Visit the ' +\n",
              "            '<a target=\"_blank\" href=https://colab.research.google.com/notebooks/data_table.ipynb>data table notebook</a>'\n",
              "            + ' to learn more about interactive tables.';\n",
              "          element.innerHTML = '';\n",
              "          dataTable['output_type'] = 'display_data';\n",
              "          await google.colab.output.renderOutput(dataTable, element);\n",
              "          const docLink = document.createElement('div');\n",
              "          docLink.innerHTML = docLinkHtml;\n",
              "          element.appendChild(docLink);\n",
              "        }\n",
              "      </script>\n",
              "    </div>\n",
              "  </div>\n",
              "  "
            ],
            "text/plain": [
              "              age        Medu        Fedu  ...          G1          G2          G3\n",
              "count  395.000000  395.000000  395.000000  ...  395.000000  395.000000  395.000000\n",
              "mean    16.696203    2.749367    2.521519  ...   10.908861   10.713924   10.415190\n",
              "std      1.276043    1.094735    1.088201  ...    3.319195    3.761505    4.581443\n",
              "min     15.000000    0.000000    0.000000  ...    3.000000    0.000000    0.000000\n",
              "25%     16.000000    2.000000    2.000000  ...    8.000000    9.000000    8.000000\n",
              "50%     17.000000    3.000000    2.000000  ...   11.000000   11.000000   11.000000\n",
              "75%     18.000000    4.000000    3.000000  ...   13.000000   13.000000   14.000000\n",
              "max     22.000000    4.000000    4.000000  ...   19.000000   19.000000   20.000000\n",
              "\n",
              "[8 rows x 16 columns]"
            ]
          },
          "metadata": {},
          "execution_count": 63
        }
      ]
    },
    {
      "cell_type": "markdown",
      "metadata": {
        "id": "z6hXZfDS4ETS"
      },
      "source": [
        "\n",
        "\n",
        "> Penggunaan fungsi info  dilakukan untuk melihat tipe data serta mengecek adanya nilai null yang perlu dibersihkan. Dalam hal kasus ini banyaknya rekord berjumlah 395 dengan nilai non-null sebesar 395 untuk setiap kolum. Hal ini menandakan tidak adanya anomali berupa nilai null pada tiap kolum yang membuat tidak diperlukannya pembersihan data null\n"
      ]
    },
    {
      "cell_type": "code",
      "metadata": {
        "colab": {
          "base_uri": "https://localhost:8080/"
        },
        "id": "gonIhE72Y6gD",
        "outputId": "2c864c65-0e42-494a-eb74-7a14ef86a082"
      },
      "source": [
        "df.info()"
      ],
      "execution_count": null,
      "outputs": [
        {
          "output_type": "stream",
          "name": "stdout",
          "text": [
            "<class 'pandas.core.frame.DataFrame'>\n",
            "RangeIndex: 395 entries, 0 to 394\n",
            "Data columns (total 34 columns):\n",
            " #   Column      Non-Null Count  Dtype \n",
            "---  ------      --------------  ----- \n",
            " 0   school      395 non-null    object\n",
            " 1   sex         395 non-null    object\n",
            " 2   age         395 non-null    int64 \n",
            " 3   address     395 non-null    object\n",
            " 4   famsize     395 non-null    object\n",
            " 5   Pstatus     395 non-null    object\n",
            " 6   Medu        395 non-null    int64 \n",
            " 7   Fedu        395 non-null    int64 \n",
            " 8   Mjob        395 non-null    object\n",
            " 9   Fjob        395 non-null    object\n",
            " 10  reason      395 non-null    object\n",
            " 11  guardian    395 non-null    object\n",
            " 12  traveltime  395 non-null    int64 \n",
            " 13  studytime   395 non-null    int64 \n",
            " 14  failures    395 non-null    int64 \n",
            " 15  schoolsup   395 non-null    object\n",
            " 16  famsup      395 non-null    object\n",
            " 17  paid        395 non-null    object\n",
            " 18  activities  395 non-null    object\n",
            " 19  nursery     395 non-null    object\n",
            " 20  higher      395 non-null    object\n",
            " 21  internet    395 non-null    object\n",
            " 22  romantic    395 non-null    object\n",
            " 23  famrel      395 non-null    int64 \n",
            " 24  freetime    395 non-null    int64 \n",
            " 25  goout       395 non-null    int64 \n",
            " 26  Dalc        395 non-null    int64 \n",
            " 27  Walc        395 non-null    int64 \n",
            " 28  health      395 non-null    int64 \n",
            " 29  absences    395 non-null    int64 \n",
            " 30  G1          395 non-null    int64 \n",
            " 31  G2          395 non-null    int64 \n",
            " 32  G3          395 non-null    int64 \n",
            " 33  status      395 non-null    object\n",
            "dtypes: int64(16), object(18)\n",
            "memory usage: 105.0+ KB\n"
          ]
        }
      ]
    },
    {
      "cell_type": "markdown",
      "metadata": {
        "id": "XZ0O9NhU5xyj"
      },
      "source": [
        "\n",
        "\n",
        "> Melakukan pengecekan korelasi setiap fieldnya, jika nilai mendekati 1 atau -1 maka kedua variable memiliki korelasi yang sangat kuat\n",
        "\n"
      ]
    },
    {
      "cell_type": "code",
      "metadata": {
        "colab": {
          "base_uri": "https://localhost:8080/"
        },
        "id": "DzruehG651_k",
        "outputId": "cc53bd13-0903-438b-ffdb-bee9e4a223a9"
      },
      "source": [
        "plt.figure(figsize=(12, 12))\n",
        "sns.heatmap(df.corr(), cmap='Blues', annot=True, fmt='.2f')"
      ],
      "execution_count": null,
      "outputs": [
        {
          "output_type": "execute_result",
          "data": {
            "text/plain": [
              "<matplotlib.axes._subplots.AxesSubplot at 0x7f128e649790>"
            ]
          },
          "metadata": {},
          "execution_count": 65
        },
        {
          "output_type": "display_data",
          "data": {
            "image/png": "[encoded data removed]",
            "text/plain": [
              "<Figure size 864x864 with 2 Axes>"
            ]
          },
          "metadata": {
            "needs_background": "light"
          }
        }
      ]
    },
    {
      "cell_type": "markdown",
      "metadata": {
        "id": "J8XRfCr10ej6"
      },
      "source": [
        "**Distribusi Data**\n",
        "\n",
        "> Sebelum visualisasi data dilakukan data akan dipisahkan berdasarkan tipedatanya terlebih dahulu yaitu numeric dan non-numeric (category)\n",
        "\n",
        "\n"
      ]
    },
    {
      "cell_type": "code",
      "metadata": {
        "id": "oBV27XiTwMwW",
        "colab": {
          "base_uri": "https://localhost:8080/"
        },
        "outputId": "a3fd2060-ede9-4dd3-dd19-3a6e5763bc8a"
      },
      "source": [
        "category = []\n",
        "numeric = []\n",
        "for i in df.columns:\n",
        "  if(df[i].dtype == 'object'):\n",
        "    category.append(i)\n",
        "  else:\n",
        "    numeric.append(i)\n",
        "\n",
        "print('Kolum object adalah {}'.format(category))\n",
        "print('Kolum numeric adalah {}'.format(numeric))"
      ],
      "execution_count": null,
      "outputs": [
        {
          "output_type": "stream",
          "name": "stdout",
          "text": [
            "Kolum object adalah ['school', 'sex', 'address', 'famsize', 'Pstatus', 'Mjob', 'Fjob', 'reason', 'guardian', 'schoolsup', 'famsup', 'paid', 'activities', 'nursery', 'higher', 'internet', 'romantic', 'status']\n",
            "Kolum numeric adalah ['age', 'Medu', 'Fedu', 'traveltime', 'studytime', 'failures', 'famrel', 'freetime', 'goout', 'Dalc', 'Walc', 'health', 'absences', 'G1', 'G2', 'G3']\n"
          ]
        }
      ]
    },
    {
      "cell_type": "markdown",
      "metadata": {
        "id": "5EJnZSSfSxpU"
      },
      "source": [
        "> Setelah dipisahkan akan digunakannya countplot untuk melakukan visualisasi distribusi rekord untuk setiap kolumnya. Untuk kolum yang bernilai lebih dari dua dan berbentuk kategori dapat digunakan dummy variable"
      ]
    },
    {
      "cell_type": "code",
      "metadata": {
        "colab": {
          "base_uri": "https://localhost:8080/"
        },
        "id": "FrXgb3YQ_nJw",
        "outputId": "5d53df24-5cc6-4e63-ef56-1428bf1951ea"
      },
      "source": [
        "plt.figure(figsize = (20,10))\n",
        "for i in range (0, len(category)):\n",
        "  plt.subplot(6, len(category)/6, i+1)\n",
        "  sns.countplot(x = df[category[i]], color='blue')\n",
        "  plt.tight_layout()"
      ],
      "execution_count": null,
      "outputs": [
        {
          "output_type": "display_data",
          "data": {
            "image/png": "[encoded data removed]",
            "text/plain": [
              "<Figure size 1440x720 with 18 Axes>"
            ]
          },
          "metadata": {
            "needs_background": "light"
          }
        }
      ]
    },
    {
      "cell_type": "code",
      "metadata": {
        "colab": {
          "base_uri": "https://localhost:8080/"
        },
        "id": "jJ_7n0nCwqPx",
        "outputId": "20ae9c88-39d8-416e-944c-68d64d3acf16"
      },
      "source": [
        "df[numeric].hist(figsize=(20,17))"
      ],
      "execution_count": null,
      "outputs": [
        {
          "output_type": "execute_result",
          "data": {
            "text/plain": [
              "array([[<matplotlib.axes._subplots.AxesSubplot object at 0x7f128fba22d0>,\n",
              "        <matplotlib.axes._subplots.AxesSubplot object at 0x7f128fb1ce90>,\n",
              "        <matplotlib.axes._subplots.AxesSubplot object at 0x7f128facb790>,\n",
              "        <matplotlib.axes._subplots.AxesSubplot object at 0x7f128faffc90>],\n",
              "       [<matplotlib.axes._subplots.AxesSubplot object at 0x7f128fabf250>,\n",
              "        <matplotlib.axes._subplots.AxesSubplot object at 0x7f128fa776d0>,\n",
              "        <matplotlib.axes._subplots.AxesSubplot object at 0x7f128fa2fd90>,\n",
              "        <matplotlib.axes._subplots.AxesSubplot object at 0x7f128f9f3190>],\n",
              "       [<matplotlib.axes._subplots.AxesSubplot object at 0x7f128f9f31d0>,\n",
              "        <matplotlib.axes._subplots.AxesSubplot object at 0x7f128f9a97d0>,\n",
              "        <matplotlib.axes._subplots.AxesSubplot object at 0x7f128f9241d0>,\n",
              "        <matplotlib.axes._subplots.AxesSubplot object at 0x7f128f8d7690>],\n",
              "       [<matplotlib.axes._subplots.AxesSubplot object at 0x7f128f88fb50>,\n",
              "        <matplotlib.axes._subplots.AxesSubplot object at 0x7f128f8bab50>,\n",
              "        <matplotlib.axes._subplots.AxesSubplot object at 0x7f128f80c690>,\n",
              "        <matplotlib.axes._subplots.AxesSubplot object at 0x7f128f842490>]],\n",
              "      dtype=object)"
            ]
          },
          "metadata": {},
          "execution_count": 68
        },
        {
          "output_type": "display_data",
          "data": {
            "image/png": "[encoded data removed]",
            "text/plain": [
              "<Figure size 1440x1224 with 16 Axes>"
            ]
          },
          "metadata": {
            "needs_background": "light"
          }
        }
      ]
    },
    {
      "cell_type": "markdown",
      "metadata": {
        "id": "BvHVvVc4gID9"
      },
      "source": [
        "> Pengecekan outlier secara boxplot. Titik diluar batas interval bawah dan atas dari boxplot menunjukan letak outlier data. Hal ini dapat membantu pada saat penulis akan membersihkan outlier sehingga tidak akan berdampak pada akurasi data"
      ]
    },
    {
      "cell_type": "code",
      "metadata": {
        "colab": {
          "base_uri": "https://localhost:8080/"
        },
        "id": "JayGqR6v6qSy",
        "outputId": "dca56c29-a2a4-41c0-e1b7-3496661e5407"
      },
      "source": [
        "plt.figure(figsize=(20,4))\n",
        "for i in range (0, len(numeric)):\n",
        "  plt.subplot(2, len(numeric)/2, i+1)\n",
        "  sns.boxplot(x = df[numeric[i]],color='blue')\n",
        "  plt.tight_layout()"
      ],
      "execution_count": null,
      "outputs": [
        {
          "output_type": "display_data",
          "data": {
            "image/png": "[encoded data removed]",
            "text/plain": [
              "<Figure size 1440x288 with 16 Axes>"
            ]
          },
          "metadata": {
            "needs_background": "light"
          }
        }
      ]
    },
    {
      "cell_type": "markdown",
      "metadata": {
        "id": "3rN3cCX267YE"
      },
      "source": [
        "# **Data Preprocessing**"
      ]
    },
    {
      "cell_type": "markdown",
      "metadata": {
        "id": "bBDvQxT5ZYAO"
      },
      "source": [
        "> Filter outlier akan menggunakan metode IQR Score dengan mula-mula mencari nilai IQR yaitu selisih kuartil atas dengan kuartil bawah. Untuk mencari batas bawah dan batas atas maka nilai IQR akan dikalikan dengan 1.5 dan akan di kurang / ditambah dengan nilai Q1 / Q3 masing-masing."
      ]
    },
    {
      "cell_type": "code",
      "metadata": {
        "colab": {
          "base_uri": "https://localhost:8080/"
        },
        "id": "fdauZq1mZS2m",
        "outputId": "e1e3fc99-db0d-4e81-fe68-ca3527d91dbb"
      },
      "source": [
        "#Memilih data yang termasuk kedalam range non-outlier\n",
        "Q1 = df.quantile(0.25)\n",
        "Q3 = df.quantile(0.75)\n",
        "IQR = Q3 - Q1\n",
        "data_clean = df[~((df < (Q1 - 1.5 * IQR)) |(df > (Q3 + 1.5 * IQR))).any(axis=1)]\n",
        "data_clean.shape"
      ],
      "execution_count": null,
      "outputs": [
        {
          "output_type": "execute_result",
          "data": {
            "text/plain": [
              "(232, 34)"
            ]
          },
          "metadata": {},
          "execution_count": 70
        }
      ]
    },
    {
      "cell_type": "markdown",
      "metadata": {
        "id": "7IjbY74OcBhC"
      },
      "source": [
        "> Dikarenakan dalam data terdapat lebih dari satu sekolah, oleh karena itu kami menggunakan kode sekolah GP saja untuk diolah"
      ]
    },
    {
      "cell_type": "code",
      "metadata": {
        "id": "a0CBOeXqiGo8"
      },
      "source": [
        "data = data_clean[data_clean.school == \"GP\"]"
      ],
      "execution_count": null,
      "outputs": []
    },
    {
      "cell_type": "markdown",
      "metadata": {
        "id": "psfEi2BsUosn"
      },
      "source": [
        "> Pengecekan nilai unik untuk setiap kolum yang berpotensi untuk dibuatkan kolum dummynya"
      ]
    },
    {
      "cell_type": "code",
      "metadata": {
        "colab": {
          "base_uri": "https://localhost:8080/"
        },
        "id": "xKi5EnMGUsJe",
        "outputId": "3bdacd93-be3d-48dc-8a27-f71d036333ee"
      },
      "source": [
        "for i in data.columns:\n",
        "  if(len(data[i].unique()) > 1 and data[i].dtype not in ['int64','float64']):\n",
        "    print(\"Kolum {} memiliki nilai unik: {} \\n\".format(i,data[i].unique()))"
      ],
      "execution_count": null,
      "outputs": [
        {
          "output_type": "stream",
          "name": "stdout",
          "text": [
            "Kolum sex memiliki nilai unik: ['F' 'M'] \n",
            "\n",
            "Kolum address memiliki nilai unik: ['U' 'R'] \n",
            "\n",
            "Kolum famsize memiliki nilai unik: ['GT3' 'LE3'] \n",
            "\n",
            "Kolum Pstatus memiliki nilai unik: ['A' 'T'] \n",
            "\n",
            "Kolum Mjob memiliki nilai unik: ['at_home' 'health' 'other' 'services' 'teacher'] \n",
            "\n",
            "Kolum Fjob memiliki nilai unik: ['teacher' 'other' 'services' 'health' 'at_home'] \n",
            "\n",
            "Kolum reason memiliki nilai unik: ['course' 'home' 'reputation' 'other'] \n",
            "\n",
            "Kolum guardian memiliki nilai unik: ['mother' 'father' 'other'] \n",
            "\n",
            "Kolum schoolsup memiliki nilai unik: ['yes' 'no'] \n",
            "\n",
            "Kolum famsup memiliki nilai unik: ['no' 'yes'] \n",
            "\n",
            "Kolum paid memiliki nilai unik: ['no' 'yes'] \n",
            "\n",
            "Kolum activities memiliki nilai unik: ['no' 'yes'] \n",
            "\n",
            "Kolum nursery memiliki nilai unik: ['yes' 'no'] \n",
            "\n",
            "Kolum higher memiliki nilai unik: ['yes' 'no'] \n",
            "\n",
            "Kolum internet memiliki nilai unik: ['no' 'yes'] \n",
            "\n",
            "Kolum romantic memiliki nilai unik: ['no' 'yes'] \n",
            "\n",
            "Kolum status memiliki nilai unik: ['Fail' 'Pass'] \n",
            "\n"
          ]
        }
      ]
    },
    {
      "cell_type": "markdown",
      "metadata": {
        "id": "YxK1uNAa7CGy"
      },
      "source": [
        "> Setelah itu kami akan melakukan drop kolum yang tidak digunakan sebagai parameter"
      ]
    },
    {
      "cell_type": "code",
      "metadata": {
        "id": "ChROeL21K-bw"
      },
      "source": [
        "drop_columns = ['Medu','Fedu','school','sex','age','address','famsize','Mjob','activities',\n",
        "                'Fjob','reason','guardian','traveltime','Pstatus',\n",
        "                'schoolsup','nursery','internet','romantic','higher',\n",
        "                'freetime','goout','Dalc','Walc','failures','health','G2','G3']\n",
        "\n",
        "data = data.drop(drop_columns, axis=1)"
      ],
      "execution_count": null,
      "outputs": []
    },
    {
      "cell_type": "markdown",
      "metadata": {
        "id": "K6Tb634yL2c6"
      },
      "source": [
        "\n",
        "\n",
        "> Menentukan field yang akan digunakan dari data awal untuk pembentukan model\n"
      ]
    },
    {
      "cell_type": "code",
      "metadata": {
        "id": "TWy40uaoaBjX",
        "colab": {
          "base_uri": "https://localhost:8080/"
        },
        "outputId": "60154875-145b-452b-87cc-4f1198b820dc"
      },
      "source": [
        "dummies_columns = []\n",
        "for i in data.columns:\n",
        "  try:\n",
        "    if(data[i].dtype != 'int64' and i!='status'): \n",
        "      data[i] = pd.Categorical(data[i], categories=data[i].unique())\n",
        "      dummies_columns.append(i)\n",
        "    else:\n",
        "      print(\"No dummies column created\")\n",
        "  except:\n",
        "    print(\"An exception occured or no columns found\")\n",
        "try:\n",
        "  data = pd.get_dummies(data, columns=dummies_columns)\n",
        "except:\n",
        "  print(\"An exception occurred\")"
      ],
      "execution_count": null,
      "outputs": [
        {
          "output_type": "stream",
          "name": "stdout",
          "text": [
            "No dummies column created\n",
            "No dummies column created\n",
            "No dummies column created\n",
            "No dummies column created\n",
            "No dummies column created\n"
          ]
        }
      ]
    },
    {
      "cell_type": "markdown",
      "metadata": {
        "id": "9B0rn4kgy0TX"
      },
      "source": [
        "> Mengkonversikan field yang memiliki 2 nilai string menjadi nilai binari dan mengganti nilai 'yes' dan 'no' menjadi nilai binari sehingga tidak bermasalah pada saat pembentukan model. Dikarenakan kolum status akan dijadikan variable dependent dalam pemelajaran mesin ini dan kolum tersebut memiliki nilai object 'Fail' dan 'Pass' maka akan dikonversikan menjadi nilai numerik dengan menggunakan label encoder. Secara manual hal ini dapat dilakukan dengan menggunakan .replace()\n",
        "\n"
      ]
    },
    {
      "cell_type": "code",
      "metadata": {
        "id": "6KZxDDdtyxgg"
      },
      "source": [
        "#Inisialisasi encoder\n",
        "le = LabelEncoder()\n",
        "  \n",
        "#Konversi nilai string pada kolum status\n",
        "data['result'] = le.fit_transform(data['status'])\n",
        "data = data.drop(['status'],axis=1)"
      ],
      "execution_count": null,
      "outputs": []
    },
    {
      "cell_type": "code",
      "metadata": {
        "colab": {
          "base_uri": "https://localhost:8080/",
          "height": 206
        },
        "id": "Na-mX5pBbrUC",
        "outputId": "69dda9b5-564b-4449-9692-5fdb8cc7d4fa"
      },
      "source": [
        "data.head() "
      ],
      "execution_count": null,
      "outputs": [
        {
          "output_type": "execute_result",
          "data": {
            "text/html": [
              "\n",
              "  <div id=\"df-22edab81-888e-4b25-a388-9647563a4e7f\">\n",
              "    <div class=\"colab-df-container\">\n",
              "      <div>\n",
              "<style scoped>\n",
              "    .dataframe tbody tr th:only-of-type {\n",
              "        vertical-align: middle;\n",
              "    }\n",
              "\n",
              "    .dataframe tbody tr th {\n",
              "        vertical-align: top;\n",
              "    }\n",
              "\n",
              "    .dataframe thead th {\n",
              "        text-align: right;\n",
              "    }\n",
              "</style>\n",
              "<table border=\"1\" class=\"dataframe\">\n",
              "  <thead>\n",
              "    <tr style=\"text-align: right;\">\n",
              "      <th></th>\n",
              "      <th>studytime</th>\n",
              "      <th>famrel</th>\n",
              "      <th>absences</th>\n",
              "      <th>G1</th>\n",
              "      <th>famsup_no</th>\n",
              "      <th>famsup_yes</th>\n",
              "      <th>paid_no</th>\n",
              "      <th>paid_yes</th>\n",
              "      <th>result</th>\n",
              "    </tr>\n",
              "  </thead>\n",
              "  <tbody>\n",
              "    <tr>\n",
              "      <th>0</th>\n",
              "      <td>2</td>\n",
              "      <td>4</td>\n",
              "      <td>6</td>\n",
              "      <td>5</td>\n",
              "      <td>1</td>\n",
              "      <td>0</td>\n",
              "      <td>1</td>\n",
              "      <td>0</td>\n",
              "      <td>0</td>\n",
              "    </tr>\n",
              "    <tr>\n",
              "      <th>1</th>\n",
              "      <td>2</td>\n",
              "      <td>5</td>\n",
              "      <td>4</td>\n",
              "      <td>5</td>\n",
              "      <td>0</td>\n",
              "      <td>1</td>\n",
              "      <td>1</td>\n",
              "      <td>0</td>\n",
              "      <td>0</td>\n",
              "    </tr>\n",
              "    <tr>\n",
              "      <th>3</th>\n",
              "      <td>3</td>\n",
              "      <td>3</td>\n",
              "      <td>2</td>\n",
              "      <td>15</td>\n",
              "      <td>0</td>\n",
              "      <td>1</td>\n",
              "      <td>0</td>\n",
              "      <td>1</td>\n",
              "      <td>1</td>\n",
              "    </tr>\n",
              "    <tr>\n",
              "      <th>4</th>\n",
              "      <td>2</td>\n",
              "      <td>4</td>\n",
              "      <td>4</td>\n",
              "      <td>6</td>\n",
              "      <td>0</td>\n",
              "      <td>1</td>\n",
              "      <td>0</td>\n",
              "      <td>1</td>\n",
              "      <td>0</td>\n",
              "    </tr>\n",
              "    <tr>\n",
              "      <th>5</th>\n",
              "      <td>2</td>\n",
              "      <td>5</td>\n",
              "      <td>10</td>\n",
              "      <td>15</td>\n",
              "      <td>0</td>\n",
              "      <td>1</td>\n",
              "      <td>0</td>\n",
              "      <td>1</td>\n",
              "      <td>1</td>\n",
              "    </tr>\n",
              "  </tbody>\n",
              "</table>\n",
              "</div>\n",
              "      <button class=\"colab-df-convert\" onclick=\"convertToInteractive('df-22edab81-888e-4b25-a388-9647563a4e7f')\"\n",
              "              title=\"Convert this dataframe to an interactive table.\"\n",
              "              style=\"display:none;\">\n",
              "        \n",
              "  <svg xmlns=\"http://www.w3.org/2000/svg\" height=\"24px\"viewBox=\"0 0 24 24\"\n",
              "       width=\"24px\">\n",
              "    <path d=\"M0 0h24v24H0V0z\" fill=\"none\"/>\n",
              "    <path d=\"M18.56 5.44l.94 2.06.94-2.06 2.06-.94-2.06-.94-.94-2.06-.94 2.06-2.06.94zm-11 1L8.5 8.5l.94-2.06 2.06-.94-2.06-.94L8.5 2.5l-.94 2.06-2.06.94zm10 10l.94 2.06.94-2.06 2.06-.94-2.06-.94-.94-2.06-.94 2.06-2.06.94z\"/><path d=\"M17.41 7.96l-1.37-1.37c-.4-.4-.92-.59-1.43-.59-.52 0-1.04.2-1.43.59L10.3 9.45l-7.72 7.72c-.78.78-.78 2.05 0 2.83L4 21.41c.39.39.9.59 1.41.59.51 0 1.02-.2 1.41-.59l7.78-7.78 2.81-2.81c.8-.78.8-2.07 0-2.86zM5.41 20L4 18.59l7.72-7.72 1.47 1.35L5.41 20z\"/>\n",
              "  </svg>\n",
              "      </button>\n",
              "      \n",
              "  <style>\n",
              "    .colab-df-container {\n",
              "      display:flex;\n",
              "      flex-wrap:wrap;\n",
              "      gap: 12px;\n",
              "    }\n",
              "\n",
              "    .colab-df-convert {\n",
              "      background-color: #E8F0FE;\n",
              "      border: none;\n",
              "      border-radius: 50%;\n",
              "      cursor: pointer;\n",
              "      display: none;\n",
              "      fill: #1967D2;\n",
              "      height: 32px;\n",
              "      padding: 0 0 0 0;\n",
              "      width: 32px;\n",
              "    }\n",
              "\n",
              "    .colab-df-convert:hover {\n",
              "      background-color: #E2EBFA;\n",
              "      box-shadow: 0px 1px 2px rgba(60, 64, 67, 0.3), 0px 1px 3px 1px rgba(60, 64, 67, 0.15);\n",
              "      fill: #174EA6;\n",
              "    }\n",
              "\n",
              "    [theme=dark] .colab-df-convert {\n",
              "      background-color: #3B4455;\n",
              "      fill: #D2E3FC;\n",
              "    }\n",
              "\n",
              "    [theme=dark] .colab-df-convert:hover {\n",
              "      background-color: #434B5C;\n",
              "      box-shadow: 0px 1px 3px 1px rgba(0, 0, 0, 0.15);\n",
              "      filter: drop-shadow(0px 1px 2px rgba(0, 0, 0, 0.3));\n",
              "      fill: #FFFFFF;\n",
              "    }\n",
              "  </style>\n",
              "\n",
              "      <script>\n",
              "        const buttonEl =\n",
              "          document.querySelector('#df-22edab81-888e-4b25-a388-9647563a4e7f button.colab-df-convert');\n",
              "        buttonEl.style.display =\n",
              "          google.colab.kernel.accessAllowed ? 'block' : 'none';\n",
              "\n",
              "        async function convertToInteractive(key) {\n",
              "          const element = document.querySelector('#df-22edab81-888e-4b25-a388-9647563a4e7f');\n",
              "          const dataTable =\n",
              "            await google.colab.kernel.invokeFunction('convertToInteractive',\n",
              "                                                     [key], {});\n",
              "          if (!dataTable) return;\n",
              "\n",
              "          const docLinkHtml = 'Like what you see? Visit the ' +\n",
              "            '<a target=\"_blank\" href=https://colab.research.google.com/notebooks/data_table.ipynb>data table notebook</a>'\n",
              "            + ' to learn more about interactive tables.';\n",
              "          element.innerHTML = '';\n",
              "          dataTable['output_type'] = 'display_data';\n",
              "          await google.colab.output.renderOutput(dataTable, element);\n",
              "          const docLink = document.createElement('div');\n",
              "          docLink.innerHTML = docLinkHtml;\n",
              "          element.appendChild(docLink);\n",
              "        }\n",
              "      </script>\n",
              "    </div>\n",
              "  </div>\n",
              "  "
            ],
            "text/plain": [
              "   studytime  famrel  absences  G1  ...  famsup_yes  paid_no  paid_yes  result\n",
              "0          2       4         6   5  ...           0        1         0       0\n",
              "1          2       5         4   5  ...           1        1         0       0\n",
              "3          3       3         2  15  ...           1        0         1       1\n",
              "4          2       4         4   6  ...           1        0         1       0\n",
              "5          2       5        10  15  ...           1        0         1       1\n",
              "\n",
              "[5 rows x 9 columns]"
            ]
          },
          "metadata": {},
          "execution_count": 76
        }
      ]
    },
    {
      "cell_type": "code",
      "metadata": {
        "colab": {
          "base_uri": "https://localhost:8080/",
          "height": 300
        },
        "id": "qLADlD8vrIed",
        "outputId": "1bf94075-fef7-43b9-8c6a-e806b8ccd20c"
      },
      "source": [
        "data.describe()"
      ],
      "execution_count": null,
      "outputs": [
        {
          "output_type": "execute_result",
          "data": {
            "text/html": [
              "\n",
              "  <div id=\"df-9a5c4da7-5819-48ad-b417-9e7aff201b67\">\n",
              "    <div class=\"colab-df-container\">\n",
              "      <div>\n",
              "<style scoped>\n",
              "    .dataframe tbody tr th:only-of-type {\n",
              "        vertical-align: middle;\n",
              "    }\n",
              "\n",
              "    .dataframe tbody tr th {\n",
              "        vertical-align: top;\n",
              "    }\n",
              "\n",
              "    .dataframe thead th {\n",
              "        text-align: right;\n",
              "    }\n",
              "</style>\n",
              "<table border=\"1\" class=\"dataframe\">\n",
              "  <thead>\n",
              "    <tr style=\"text-align: right;\">\n",
              "      <th></th>\n",
              "      <th>studytime</th>\n",
              "      <th>famrel</th>\n",
              "      <th>absences</th>\n",
              "      <th>G1</th>\n",
              "      <th>famsup_no</th>\n",
              "      <th>famsup_yes</th>\n",
              "      <th>paid_no</th>\n",
              "      <th>paid_yes</th>\n",
              "      <th>result</th>\n",
              "    </tr>\n",
              "  </thead>\n",
              "  <tbody>\n",
              "    <tr>\n",
              "      <th>count</th>\n",
              "      <td>206.000000</td>\n",
              "      <td>206.000000</td>\n",
              "      <td>206.000000</td>\n",
              "      <td>206.000000</td>\n",
              "      <td>206.000000</td>\n",
              "      <td>206.000000</td>\n",
              "      <td>206.000000</td>\n",
              "      <td>206.000000</td>\n",
              "      <td>206.000000</td>\n",
              "    </tr>\n",
              "    <tr>\n",
              "      <th>mean</th>\n",
              "      <td>1.966019</td>\n",
              "      <td>4.135922</td>\n",
              "      <td>4.126214</td>\n",
              "      <td>11.665049</td>\n",
              "      <td>0.339806</td>\n",
              "      <td>0.660194</td>\n",
              "      <td>0.504854</td>\n",
              "      <td>0.495146</td>\n",
              "      <td>0.694175</td>\n",
              "    </tr>\n",
              "    <tr>\n",
              "      <th>std</th>\n",
              "      <td>0.687030</td>\n",
              "      <td>0.692095</td>\n",
              "      <td>4.450661</td>\n",
              "      <td>3.093572</td>\n",
              "      <td>0.474797</td>\n",
              "      <td>0.474797</td>\n",
              "      <td>0.501194</td>\n",
              "      <td>0.501194</td>\n",
              "      <td>0.461879</td>\n",
              "    </tr>\n",
              "    <tr>\n",
              "      <th>min</th>\n",
              "      <td>1.000000</td>\n",
              "      <td>3.000000</td>\n",
              "      <td>0.000000</td>\n",
              "      <td>5.000000</td>\n",
              "      <td>0.000000</td>\n",
              "      <td>0.000000</td>\n",
              "      <td>0.000000</td>\n",
              "      <td>0.000000</td>\n",
              "      <td>0.000000</td>\n",
              "    </tr>\n",
              "    <tr>\n",
              "      <th>25%</th>\n",
              "      <td>1.250000</td>\n",
              "      <td>4.000000</td>\n",
              "      <td>0.000000</td>\n",
              "      <td>9.000000</td>\n",
              "      <td>0.000000</td>\n",
              "      <td>0.000000</td>\n",
              "      <td>0.000000</td>\n",
              "      <td>0.000000</td>\n",
              "      <td>0.000000</td>\n",
              "    </tr>\n",
              "    <tr>\n",
              "      <th>50%</th>\n",
              "      <td>2.000000</td>\n",
              "      <td>4.000000</td>\n",
              "      <td>2.000000</td>\n",
              "      <td>12.000000</td>\n",
              "      <td>0.000000</td>\n",
              "      <td>1.000000</td>\n",
              "      <td>1.000000</td>\n",
              "      <td>0.000000</td>\n",
              "      <td>1.000000</td>\n",
              "    </tr>\n",
              "    <tr>\n",
              "      <th>75%</th>\n",
              "      <td>2.000000</td>\n",
              "      <td>5.000000</td>\n",
              "      <td>6.000000</td>\n",
              "      <td>14.000000</td>\n",
              "      <td>1.000000</td>\n",
              "      <td>1.000000</td>\n",
              "      <td>1.000000</td>\n",
              "      <td>1.000000</td>\n",
              "      <td>1.000000</td>\n",
              "    </tr>\n",
              "    <tr>\n",
              "      <th>max</th>\n",
              "      <td>3.000000</td>\n",
              "      <td>5.000000</td>\n",
              "      <td>20.000000</td>\n",
              "      <td>19.000000</td>\n",
              "      <td>1.000000</td>\n",
              "      <td>1.000000</td>\n",
              "      <td>1.000000</td>\n",
              "      <td>1.000000</td>\n",
              "      <td>1.000000</td>\n",
              "    </tr>\n",
              "  </tbody>\n",
              "</table>\n",
              "</div>\n",
              "      <button class=\"colab-df-convert\" onclick=\"convertToInteractive('df-9a5c4da7-5819-48ad-b417-9e7aff201b67')\"\n",
              "              title=\"Convert this dataframe to an interactive table.\"\n",
              "              style=\"display:none;\">\n",
              "        \n",
              "  <svg xmlns=\"http://www.w3.org/2000/svg\" height=\"24px\"viewBox=\"0 0 24 24\"\n",
              "       width=\"24px\">\n",
              "    <path d=\"M0 0h24v24H0V0z\" fill=\"none\"/>\n",
              "    <path d=\"M18.56 5.44l.94 2.06.94-2.06 2.06-.94-2.06-.94-.94-2.06-.94 2.06-2.06.94zm-11 1L8.5 8.5l.94-2.06 2.06-.94-2.06-.94L8.5 2.5l-.94 2.06-2.06.94zm10 10l.94 2.06.94-2.06 2.06-.94-2.06-.94-.94-2.06-.94 2.06-2.06.94z\"/><path d=\"M17.41 7.96l-1.37-1.37c-.4-.4-.92-.59-1.43-.59-.52 0-1.04.2-1.43.59L10.3 9.45l-7.72 7.72c-.78.78-.78 2.05 0 2.83L4 21.41c.39.39.9.59 1.41.59.51 0 1.02-.2 1.41-.59l7.78-7.78 2.81-2.81c.8-.78.8-2.07 0-2.86zM5.41 20L4 18.59l7.72-7.72 1.47 1.35L5.41 20z\"/>\n",
              "  </svg>\n",
              "      </button>\n",
              "      \n",
              "  <style>\n",
              "    .colab-df-container {\n",
              "      display:flex;\n",
              "      flex-wrap:wrap;\n",
              "      gap: 12px;\n",
              "    }\n",
              "\n",
              "    .colab-df-convert {\n",
              "      background-color: #E8F0FE;\n",
              "      border: none;\n",
              "      border-radius: 50%;\n",
              "      cursor: pointer;\n",
              "      display: none;\n",
              "      fill: #1967D2;\n",
              "      height: 32px;\n",
              "      padding: 0 0 0 0;\n",
              "      width: 32px;\n",
              "    }\n",
              "\n",
              "    .colab-df-convert:hover {\n",
              "      background-color: #E2EBFA;\n",
              "      box-shadow: 0px 1px 2px rgba(60, 64, 67, 0.3), 0px 1px 3px 1px rgba(60, 64, 67, 0.15);\n",
              "      fill: #174EA6;\n",
              "    }\n",
              "\n",
              "    [theme=dark] .colab-df-convert {\n",
              "      background-color: #3B4455;\n",
              "      fill: #D2E3FC;\n",
              "    }\n",
              "\n",
              "    [theme=dark] .colab-df-convert:hover {\n",
              "      background-color: #434B5C;\n",
              "      box-shadow: 0px 1px 3px 1px rgba(0, 0, 0, 0.15);\n",
              "      filter: drop-shadow(0px 1px 2px rgba(0, 0, 0, 0.3));\n",
              "      fill: #FFFFFF;\n",
              "    }\n",
              "  </style>\n",
              "\n",
              "      <script>\n",
              "        const buttonEl =\n",
              "          document.querySelector('#df-9a5c4da7-5819-48ad-b417-9e7aff201b67 button.colab-df-convert');\n",
              "        buttonEl.style.display =\n",
              "          google.colab.kernel.accessAllowed ? 'block' : 'none';\n",
              "\n",
              "        async function convertToInteractive(key) {\n",
              "          const element = document.querySelector('#df-9a5c4da7-5819-48ad-b417-9e7aff201b67');\n",
              "          const dataTable =\n",
              "            await google.colab.kernel.invokeFunction('convertToInteractive',\n",
              "                                                     [key], {});\n",
              "          if (!dataTable) return;\n",
              "\n",
              "          const docLinkHtml = 'Like what you see? Visit the ' +\n",
              "            '<a target=\"_blank\" href=https://colab.research.google.com/notebooks/data_table.ipynb>data table notebook</a>'\n",
              "            + ' to learn more about interactive tables.';\n",
              "          element.innerHTML = '';\n",
              "          dataTable['output_type'] = 'display_data';\n",
              "          await google.colab.output.renderOutput(dataTable, element);\n",
              "          const docLink = document.createElement('div');\n",
              "          docLink.innerHTML = docLinkHtml;\n",
              "          element.appendChild(docLink);\n",
              "        }\n",
              "      </script>\n",
              "    </div>\n",
              "  </div>\n",
              "  "
            ],
            "text/plain": [
              "        studytime      famrel    absences  ...     paid_no    paid_yes      result\n",
              "count  206.000000  206.000000  206.000000  ...  206.000000  206.000000  206.000000\n",
              "mean     1.966019    4.135922    4.126214  ...    0.504854    0.495146    0.694175\n",
              "std      0.687030    0.692095    4.450661  ...    0.501194    0.501194    0.461879\n",
              "min      1.000000    3.000000    0.000000  ...    0.000000    0.000000    0.000000\n",
              "25%      1.250000    4.000000    0.000000  ...    0.000000    0.000000    0.000000\n",
              "50%      2.000000    4.000000    2.000000  ...    1.000000    0.000000    1.000000\n",
              "75%      2.000000    5.000000    6.000000  ...    1.000000    1.000000    1.000000\n",
              "max      3.000000    5.000000   20.000000  ...    1.000000    1.000000    1.000000\n",
              "\n",
              "[8 rows x 9 columns]"
            ]
          },
          "metadata": {},
          "execution_count": 77
        }
      ]
    },
    {
      "cell_type": "markdown",
      "metadata": {
        "id": "HIo52_5rWhm1"
      },
      "source": [
        "> Melakukan normalisasi nilai non-kategorikal menjadi nilai dalam interval -1 sampai 1 dengan menggunakan MinMaxScaler dan feature_range(-1, 1)"
      ]
    },
    {
      "cell_type": "code",
      "metadata": {
        "id": "EpsG0Hwdrdmr"
      },
      "source": [
        "# mm = MinMaxScaler(feature_range=[0,3])\n",
        "# def scaled_dataframe(data):\n",
        "#   column_scaled = []\n",
        "#   # transform data\n",
        "#   for i in data.columns:\n",
        "#     if(data[i].max() != 3 and i != 'result'):\n",
        "#       column_scaled.append(i)\n",
        "  \n",
        "#   return column_scaled\n",
        "\n",
        "\n",
        "# column_scaled = scaled_dataframe(data)\n",
        "# data[column_scaled] = mm.fit_transform(data[column_scaled])\n",
        "# print(data.describe())\n",
        "# print(data.shape)"
      ],
      "execution_count": null,
      "outputs": []
    },
    {
      "cell_type": "markdown",
      "metadata": {
        "id": "4l5xl9ud9OTq"
      },
      "source": [
        "\n",
        "\n",
        "> Memisahkan data independen(x) dan data dependen(y)\n",
        "\n"
      ]
    },
    {
      "cell_type": "code",
      "metadata": {
        "colab": {
          "base_uri": "https://localhost:8080/"
        },
        "id": "ukseB4bQUXsv",
        "outputId": "f5809240-5103-4bc0-d1a9-85036c1d24f4"
      },
      "source": [
        "data.shape"
      ],
      "execution_count": null,
      "outputs": [
        {
          "output_type": "execute_result",
          "data": {
            "text/plain": [
              "(206, 9)"
            ]
          },
          "metadata": {},
          "execution_count": 79
        }
      ]
    },
    {
      "cell_type": "code",
      "metadata": {
        "colab": {
          "base_uri": "https://localhost:8080/",
          "height": 206
        },
        "id": "AUWGvjbmzmFL",
        "outputId": "c453d8a6-48a2-40dd-ccb7-a64972a87bfc"
      },
      "source": [
        "data.head()"
      ],
      "execution_count": null,
      "outputs": [
        {
          "output_type": "execute_result",
          "data": {
            "text/html": [
              "\n",
              "  <div id=\"df-9dda9a21-8cf5-40bd-a040-c6c583539866\">\n",
              "    <div class=\"colab-df-container\">\n",
              "      <div>\n",
              "<style scoped>\n",
              "    .dataframe tbody tr th:only-of-type {\n",
              "        vertical-align: middle;\n",
              "    }\n",
              "\n",
              "    .dataframe tbody tr th {\n",
              "        vertical-align: top;\n",
              "    }\n",
              "\n",
              "    .dataframe thead th {\n",
              "        text-align: right;\n",
              "    }\n",
              "</style>\n",
              "<table border=\"1\" class=\"dataframe\">\n",
              "  <thead>\n",
              "    <tr style=\"text-align: right;\">\n",
              "      <th></th>\n",
              "      <th>studytime</th>\n",
              "      <th>famrel</th>\n",
              "      <th>absences</th>\n",
              "      <th>G1</th>\n",
              "      <th>famsup_no</th>\n",
              "      <th>famsup_yes</th>\n",
              "      <th>paid_no</th>\n",
              "      <th>paid_yes</th>\n",
              "      <th>result</th>\n",
              "    </tr>\n",
              "  </thead>\n",
              "  <tbody>\n",
              "    <tr>\n",
              "      <th>0</th>\n",
              "      <td>2</td>\n",
              "      <td>4</td>\n",
              "      <td>6</td>\n",
              "      <td>5</td>\n",
              "      <td>1</td>\n",
              "      <td>0</td>\n",
              "      <td>1</td>\n",
              "      <td>0</td>\n",
              "      <td>0</td>\n",
              "    </tr>\n",
              "    <tr>\n",
              "      <th>1</th>\n",
              "      <td>2</td>\n",
              "      <td>5</td>\n",
              "      <td>4</td>\n",
              "      <td>5</td>\n",
              "      <td>0</td>\n",
              "      <td>1</td>\n",
              "      <td>1</td>\n",
              "      <td>0</td>\n",
              "      <td>0</td>\n",
              "    </tr>\n",
              "    <tr>\n",
              "      <th>3</th>\n",
              "      <td>3</td>\n",
              "      <td>3</td>\n",
              "      <td>2</td>\n",
              "      <td>15</td>\n",
              "      <td>0</td>\n",
              "      <td>1</td>\n",
              "      <td>0</td>\n",
              "      <td>1</td>\n",
              "      <td>1</td>\n",
              "    </tr>\n",
              "    <tr>\n",
              "      <th>4</th>\n",
              "      <td>2</td>\n",
              "      <td>4</td>\n",
              "      <td>4</td>\n",
              "      <td>6</td>\n",
              "      <td>0</td>\n",
              "      <td>1</td>\n",
              "      <td>0</td>\n",
              "      <td>1</td>\n",
              "      <td>0</td>\n",
              "    </tr>\n",
              "    <tr>\n",
              "      <th>5</th>\n",
              "      <td>2</td>\n",
              "      <td>5</td>\n",
              "      <td>10</td>\n",
              "      <td>15</td>\n",
              "      <td>0</td>\n",
              "      <td>1</td>\n",
              "      <td>0</td>\n",
              "      <td>1</td>\n",
              "      <td>1</td>\n",
              "    </tr>\n",
              "  </tbody>\n",
              "</table>\n",
              "</div>\n",
              "      <button class=\"colab-df-convert\" onclick=\"convertToInteractive('df-9dda9a21-8cf5-40bd-a040-c6c583539866')\"\n",
              "              title=\"Convert this dataframe to an interactive table.\"\n",
              "              style=\"display:none;\">\n",
              "        \n",
              "  <svg xmlns=\"http://www.w3.org/2000/svg\" height=\"24px\"viewBox=\"0 0 24 24\"\n",
              "       width=\"24px\">\n",
              "    <path d=\"M0 0h24v24H0V0z\" fill=\"none\"/>\n",
              "    <path d=\"M18.56 5.44l.94 2.06.94-2.06 2.06-.94-2.06-.94-.94-2.06-.94 2.06-2.06.94zm-11 1L8.5 8.5l.94-2.06 2.06-.94-2.06-.94L8.5 2.5l-.94 2.06-2.06.94zm10 10l.94 2.06.94-2.06 2.06-.94-2.06-.94-.94-2.06-.94 2.06-2.06.94z\"/><path d=\"M17.41 7.96l-1.37-1.37c-.4-.4-.92-.59-1.43-.59-.52 0-1.04.2-1.43.59L10.3 9.45l-7.72 7.72c-.78.78-.78 2.05 0 2.83L4 21.41c.39.39.9.59 1.41.59.51 0 1.02-.2 1.41-.59l7.78-7.78 2.81-2.81c.8-.78.8-2.07 0-2.86zM5.41 20L4 18.59l7.72-7.72 1.47 1.35L5.41 20z\"/>\n",
              "  </svg>\n",
              "      </button>\n",
              "      \n",
              "  <style>\n",
              "    .colab-df-container {\n",
              "      display:flex;\n",
              "      flex-wrap:wrap;\n",
              "      gap: 12px;\n",
              "    }\n",
              "\n",
              "    .colab-df-convert {\n",
              "      background-color: #E8F0FE;\n",
              "      border: none;\n",
              "      border-radius: 50%;\n",
              "      cursor: pointer;\n",
              "      display: none;\n",
              "      fill: #1967D2;\n",
              "      height: 32px;\n",
              "      padding: 0 0 0 0;\n",
              "      width: 32px;\n",
              "    }\n",
              "\n",
              "    .colab-df-convert:hover {\n",
              "      background-color: #E2EBFA;\n",
              "      box-shadow: 0px 1px 2px rgba(60, 64, 67, 0.3), 0px 1px 3px 1px rgba(60, 64, 67, 0.15);\n",
              "      fill: #174EA6;\n",
              "    }\n",
              "\n",
              "    [theme=dark] .colab-df-convert {\n",
              "      background-color: #3B4455;\n",
              "      fill: #D2E3FC;\n",
              "    }\n",
              "\n",
              "    [theme=dark] .colab-df-convert:hover {\n",
              "      background-color: #434B5C;\n",
              "      box-shadow: 0px 1px 3px 1px rgba(0, 0, 0, 0.15);\n",
              "      filter: drop-shadow(0px 1px 2px rgba(0, 0, 0, 0.3));\n",
              "      fill: #FFFFFF;\n",
              "    }\n",
              "  </style>\n",
              "\n",
              "      <script>\n",
              "        const buttonEl =\n",
              "          document.querySelector('#df-9dda9a21-8cf5-40bd-a040-c6c583539866 button.colab-df-convert');\n",
              "        buttonEl.style.display =\n",
              "          google.colab.kernel.accessAllowed ? 'block' : 'none';\n",
              "\n",
              "        async function convertToInteractive(key) {\n",
              "          const element = document.querySelector('#df-9dda9a21-8cf5-40bd-a040-c6c583539866');\n",
              "          const dataTable =\n",
              "            await google.colab.kernel.invokeFunction('convertToInteractive',\n",
              "                                                     [key], {});\n",
              "          if (!dataTable) return;\n",
              "\n",
              "          const docLinkHtml = 'Like what you see? Visit the ' +\n",
              "            '<a target=\"_blank\" href=https://colab.research.google.com/notebooks/data_table.ipynb>data table notebook</a>'\n",
              "            + ' to learn more about interactive tables.';\n",
              "          element.innerHTML = '';\n",
              "          dataTable['output_type'] = 'display_data';\n",
              "          await google.colab.output.renderOutput(dataTable, element);\n",
              "          const docLink = document.createElement('div');\n",
              "          docLink.innerHTML = docLinkHtml;\n",
              "          element.appendChild(docLink);\n",
              "        }\n",
              "      </script>\n",
              "    </div>\n",
              "  </div>\n",
              "  "
            ],
            "text/plain": [
              "   studytime  famrel  absences  G1  ...  famsup_yes  paid_no  paid_yes  result\n",
              "0          2       4         6   5  ...           0        1         0       0\n",
              "1          2       5         4   5  ...           1        1         0       0\n",
              "3          3       3         2  15  ...           1        0         1       1\n",
              "4          2       4         4   6  ...           1        0         1       0\n",
              "5          2       5        10  15  ...           1        0         1       1\n",
              "\n",
              "[5 rows x 9 columns]"
            ]
          },
          "metadata": {},
          "execution_count": 80
        }
      ]
    },
    {
      "cell_type": "code",
      "metadata": {
        "id": "smu4h0z9OXYo",
        "colab": {
          "base_uri": "https://localhost:8080/"
        },
        "outputId": "c86a4f58-94dc-49bc-9337-1b99d2d9af53"
      },
      "source": [
        "x = data.iloc[:,:data.shape[1]-1]\n",
        "y = data.iloc[:,data.shape[1]-1] \n",
        "y.head()"
      ],
      "execution_count": null,
      "outputs": [
        {
          "output_type": "execute_result",
          "data": {
            "text/plain": [
              "0    0\n",
              "1    0\n",
              "3    1\n",
              "4    0\n",
              "5    1\n",
              "Name: result, dtype: int64"
            ]
          },
          "metadata": {},
          "execution_count": 81
        }
      ]
    },
    {
      "cell_type": "markdown",
      "metadata": {
        "id": "qq47QTHQ5J3X"
      },
      "source": [
        "\n",
        "\n",
        "> Pembagian data untuk training data dan data testing dengan data test sebesar 35%\n",
        "\n"
      ]
    },
    {
      "cell_type": "code",
      "metadata": {
        "colab": {
          "base_uri": "https://localhost:8080/"
        },
        "id": "B5OQ_vRJPANm",
        "outputId": "50075485-b67f-4b14-953a-3eca0e41d954"
      },
      "source": [
        "#Splitting Dataset\n",
        "x_train,x_test,y_train,y_test = train_test_split(x,y,test_size = 0.35,random_state=0)\n",
        "\n",
        "print(x_train.shape)\n",
        "print(y_train.shape)\n",
        "print(x_test.shape)\n",
        "print(y_test.shape)"
      ],
      "execution_count": null,
      "outputs": [
        {
          "output_type": "stream",
          "name": "stdout",
          "text": [
            "(133, 8)\n",
            "(133,)\n",
            "(73, 8)\n",
            "(73,)\n"
          ]
        }
      ]
    },
    {
      "cell_type": "markdown",
      "metadata": {
        "id": "C4hUgRiaPmns"
      },
      "source": [
        "# **Model Building & Testing**"
      ]
    },
    {
      "cell_type": "markdown",
      "metadata": {
        "id": "EivN20mj9Vo8"
      },
      "source": [
        "\n",
        "\n",
        "> Disini akan dilakukan inisialisasi model SVM SVC (Support Vector Classifier) dengan kernel rbf. Hal ini dikarenakan pemelajaran dataset ini menggunakan banyak dimensi (lebih dari satu)\n",
        "\n",
        "> Setelah inisialisasi, maka sample train yang telah dibuat akan digunakan untuk pelatihan model\n",
        "\n"
      ]
    },
    {
      "cell_type": "code",
      "metadata": {
        "colab": {
          "base_uri": "https://localhost:8080/"
        },
        "id": "mog9rAh7PoN0",
        "outputId": "e4b114e8-408c-4d3d-f65a-4fe155e0e453"
      },
      "source": [
        "# Inisialisasi SVM\n",
        "svc = svm.SVC(C=1.0, kernel='rbf', random_state=0, class_weight='balanced')\n",
        "print(svc)"
      ],
      "execution_count": null,
      "outputs": [
        {
          "output_type": "stream",
          "name": "stdout",
          "text": [
            "SVC(class_weight='balanced', random_state=0)\n"
          ]
        }
      ]
    },
    {
      "cell_type": "code",
      "metadata": {
        "id": "ziIB-xjR-Jz_"
      },
      "source": [
        "fitting = svc.fit(x_train, y_train)"
      ],
      "execution_count": null,
      "outputs": []
    },
    {
      "cell_type": "markdown",
      "metadata": {
        "id": "njI9NRp39cxt"
      },
      "source": [
        "\n",
        "\n",
        "> Setelah dilakukan inisialisasi konfigurasi algoritma dan membuat model dari data yang telah dibuat, maka akan dilakukan test prediksi berdasarkan model tersebut serta uji evaluasi kinerja model terhadap test\n",
        "\n"
      ]
    },
    {
      "cell_type": "code",
      "metadata": {
        "colab": {
          "base_uri": "https://localhost:8080/"
        },
        "id": "3vLuKDnVQ_5e",
        "outputId": "b22cdb5f-2701-4d69-e971-8be30d427d0e"
      },
      "source": [
        "# Hasil prediksi\n",
        "y_predict = svc.predict(x_test)\n",
        "\n",
        "# Perhitungan evaluasi training data\n",
        "print(\"Train Accuracy score:\", svc.score(x_train, y_train))\n",
        "\n",
        "# Perhitungan evaluasi data data\n",
        "print(\"Test Accuracy score :\", svc.score(x_test, y_test))"
      ],
      "execution_count": null,
      "outputs": [
        {
          "output_type": "stream",
          "name": "stdout",
          "text": [
            "Train Accuracy score: 0.8947368421052632\n",
            "Test Accuracy score : 0.8493150684931506\n"
          ]
        }
      ]
    },
    {
      "cell_type": "code",
      "metadata": {
        "colab": {
          "base_uri": "https://localhost:8080/"
        },
        "id": "8MAGfvOV9IUL",
        "outputId": "b46ddde9-ae4d-4ac0-bcea-9e596c6c35c4"
      },
      "source": [
        "y_predict"
      ],
      "execution_count": null,
      "outputs": [
        {
          "output_type": "execute_result",
          "data": {
            "text/plain": [
              "array([1, 1, 1, 1, 1, 1, 1, 0, 0, 1, 1, 1, 0, 1, 0, 0, 0, 1, 1, 0, 1, 1,\n",
              "       0, 1, 1, 1, 0, 1, 0, 1, 0, 1, 0, 1, 0, 1, 1, 1, 1, 1, 1, 1, 1, 1,\n",
              "       1, 0, 0, 0, 0, 0, 0, 0, 0, 1, 1, 0, 0, 0, 0, 1, 1, 1, 0, 0, 0, 0,\n",
              "       0, 1, 1, 0, 1, 0, 0])"
            ]
          },
          "metadata": {},
          "execution_count": 86
        }
      ]
    },
    {
      "cell_type": "code",
      "metadata": {
        "colab": {
          "base_uri": "https://localhost:8080/"
        },
        "id": "AjGBrN5OXnDf",
        "outputId": "063f2f0c-5ddc-4481-8453-12978aec0593"
      },
      "source": [
        "print(\"Classification Performance Result  \\n\",metrics.classification_report(y_test, y_predict),\"\\n\")"
      ],
      "execution_count": null,
      "outputs": [
        {
          "output_type": "stream",
          "name": "stdout",
          "text": [
            "Classification Performance Result  \n",
            "               precision    recall  f1-score   support\n",
            "\n",
            "           0       0.67      1.00      0.80        22\n",
            "           1       1.00      0.78      0.88        51\n",
            "\n",
            "    accuracy                           0.85        73\n",
            "   macro avg       0.83      0.89      0.84        73\n",
            "weighted avg       0.90      0.85      0.86        73\n",
            " \n",
            "\n"
          ]
        }
      ]
    },
    {
      "cell_type": "markdown",
      "metadata": {
        "id": "u2aEy5VfqB39"
      },
      "source": [
        "> Pengecekan jumlah kesalahan yang terjadi antara nilai prediksi dengan nilai aktual dapat menggunakan confusion matrix"
      ]
    },
    {
      "cell_type": "code",
      "metadata": {
        "id": "V6ZOuUj1qCYG",
        "colab": {
          "base_uri": "https://localhost:8080/",
          "height": 337
        },
        "outputId": "dac56378-2c0e-440c-a1f2-8e4fecc40518"
      },
      "source": [
        "f, ax = plt.subplots(figsize=(8,5))\n",
        "sns.heatmap(metrics.confusion_matrix(y_test, y_predict), annot=True, fmt=\".0f\", ax=ax)\n",
        "plt.xlabel(\"Predicted\")\n",
        "plt.ylabel(\"Actual\")\n",
        "plt.show()"
      ],
      "execution_count": null,
      "outputs": [
        {
          "output_type": "display_data",
          "data": {
            "image/png": "[encoded data removed]",
            "text/plain": [
              "<Figure size 576x360 with 2 Axes>"
            ]
          },
          "metadata": {
            "needs_background": "light"
          }
        }
      ]
    },
    {
      "cell_type": "markdown",
      "metadata": {
        "id": "0Ebg6BslEx6a"
      },
      "source": [
        "> Akan dilakukannya visualisasi radial bagi data test dan data hasil prediksi untuk melihat penyebaran dan efek masing-masing dependent variable terhadap data"
      ]
    },
    {
      "cell_type": "code",
      "metadata": {
        "id": "e9A05OzibGvA",
        "colab": {
          "base_uri": "https://localhost:8080/",
          "height": 448
        },
        "outputId": "d859bab4-48f4-41e5-8533-51ac54ff7047"
      },
      "source": [
        "fig,ax = plt.subplots(figsize = (7,7))\n",
        "new_df = x_test.copy()\n",
        "new_df[\"status\"] = le.inverse_transform(y_predict)\n",
        "radviz(new_df,\"status\",ax = ax,colormap = \"GnBu\")\n",
        "plt.title('Radial Visualization',fontsize = 20)\n",
        "plt.show()"
      ],
      "execution_count": null,
      "outputs": [
        {
          "output_type": "display_data",
          "data": {
            "image/png": "[encoded data removed]",
            "text/plain": [
              "<Figure size 504x504 with 1 Axes>"
            ]
          },
          "metadata": {
            "needs_background": "light"
          }
        }
      ]
    },
    {
      "cell_type": "markdown",
      "metadata": {
        "id": "KrtfcBG-ALob"
      },
      "source": [
        "> Untuk visualisasi hyperplane akan menggunakan PCA (Principal Component Analysis) untuk mereduksi dimensi lebih dari 3 menjadi 2 dimensi. Ini akan memudahkan kami dalam mempresentasikan hasil garis keputusan pada model yang telah dilatih\n",
        "\n",
        "> Mula-mula PCA akan diinisialisasikan dengan jumlah komponen 2 untuk mereduksi dimensi menjadi 2 dimensi / fitur. Setelah itu akan ditransformasikannya data x_train yang akan dimasukan kedalam variable pca 2 dimensi.\n",
        "\n",
        "> Setelah itu akan dilakukannya inisialisasi model yang dikhususkan untuk pca ini berdasarkan parameter yang digunakan. \n",
        "\n",
        "> Setelah itu akan dilakukan looping untuk setiap nilai pada variable pca 2 dimensi berdasarkan klasifikasi y_train\n",
        "\n",
        "> Pemisahan plot tersebut akan dikategorikan sebagai Fail dan Pass\n",
        "\n"
      ]
    },
    {
      "cell_type": "markdown",
      "metadata": {
        "id": "xXWTrcGFvDYj"
      },
      "source": [
        "> RBF"
      ]
    },
    {
      "cell_type": "code",
      "metadata": {
        "colab": {
          "base_uri": "https://localhost:8080/",
          "height": 281
        },
        "id": "7oPs2h8y-eJ8",
        "outputId": "912e858d-a559-4c74-9f4d-2a78fc750956"
      },
      "source": [
        "from sklearn.decomposition import PCA\n",
        "import pylab as pl\n",
        "\n",
        "#Pengubahan dimensi fitur x_train menjadi 2 dimensi\n",
        "pca_2d = PCA(n_components=2).fit_transform(x_train)\n",
        "\n",
        "#Inisialisasi dan pelatihan model yang digunakan untuk visualisasi hyperplane\n",
        "svc_pca = svm.SVC(C=1.0, kernel='rbf', random_state=0, class_weight='balanced').fit(pca_2d, y_train)\n",
        "i = 0\n",
        "y_train_visual = le.inverse_transform(y_train)\n",
        "for count in y_train_visual:\n",
        "  if(count == 'Fail'): #Tidak Lulus\n",
        "    c1 = pl.scatter(pca_2d[i,0],pca_2d[i,1],c='r',s=50,marker='+')\n",
        "  elif(count == 'Pass'): #lulus\n",
        "    c2 = pl.scatter(pca_2d[i,0],pca_2d[i,1],c='b',s=50,marker='o')\n",
        "  i+= 1\n",
        "\n",
        "pl.legend([c1, c2], ['Fail', 'Pass'])\n",
        "x_min, x_max = pca_2d[:, 0].min() - 1,   pca_2d[:,0].max() + 1\n",
        "y_min, y_max = pca_2d[:, 1].min() - 1,   pca_2d[:, 1].max() + 1\n",
        "xx, yy = np.meshgrid(np.arange(x_min, x_max, .01),   np.arange(y_min, y_max, .01))\n",
        "Z = svc_pca.predict(np.c_[xx.ravel(),  yy.ravel()])\n",
        "Z = Z.reshape(xx.shape)\n",
        "pl.contour(xx, yy, Z)\n",
        "pl.title('Support Vector Machine Decision Surface')\n",
        "pl.axis('on')\n",
        "pl.show()"
      ],
      "execution_count": null,
      "outputs": [
        {
          "output_type": "display_data",
          "data": {
            "image/png": "[encoded data removed]",
            "text/plain": [
              "<Figure size 432x288 with 1 Axes>"
            ]
          },
          "metadata": {
            "needs_background": "light"
          }
        }
      ]
    },
    {
      "cell_type": "markdown",
      "metadata": {
        "id": "9Illmp_RvEcZ"
      },
      "source": [
        "> Linear"
      ]
    },
    {
      "cell_type": "code",
      "metadata": {
        "colab": {
          "base_uri": "https://localhost:8080/",
          "height": 281
        },
        "id": "rcxnI4G1vGVZ",
        "outputId": "11d40753-b481-4af6-a07a-817415a5b6fd"
      },
      "source": [
        "#Pengubahan dimensi fitur x_train menjadi 2 dimensi\n",
        "pca_2d = PCA(n_components=2).fit_transform(x_train)\n",
        "\n",
        "#Inisialisasi dan pelatihan model yang digunakan untuk visualisasi hyperplane\n",
        "svc_pca = svm.SVC(C=1.0, kernel='linear', random_state=0, class_weight='balanced').fit(pca_2d, y_train)\n",
        "i = 0\n",
        "for count in y_train_visual:\n",
        "  if(count == 'Fail'): #Tidak Lulus\n",
        "    c1 = pl.scatter(pca_2d[i,0],pca_2d[i,1],c='r',s=50,marker='+')\n",
        "  elif(count == 'Pass'): #lulus\n",
        "    c2 = pl.scatter(pca_2d[i,0],pca_2d[i,1],c='b',s=50,marker='o')\n",
        "  i+= 1\n",
        "\n",
        "pl.legend([c1, c2], ['Fail', 'Pass'])\n",
        "x_min, x_max = pca_2d[:, 0].min() - 1,   pca_2d[:,0].max() + 1\n",
        "y_min, y_max = pca_2d[:, 1].min() - 1,   pca_2d[:, 1].max() + 1\n",
        "xx, yy = np.meshgrid(np.arange(x_min, x_max, .01),   np.arange(y_min, y_max, .01))\n",
        "Z = svc_pca.predict(np.c_[xx.ravel(),  yy.ravel()])\n",
        "Z = Z.reshape(xx.shape)\n",
        "pl.contour(xx, yy, Z)\n",
        "pl.title('Support Vector Machine Decision Surface')\n",
        "pl.axis('on')\n",
        "pl.show()"
      ],
      "execution_count": null,
      "outputs": [
        {
          "output_type": "display_data",
          "data": {
            "image/png": "[encoded data removed]",
            "text/plain": [
              "<Figure size 432x288 with 1 Axes>"
            ]
          },
          "metadata": {
            "needs_background": "light"
          }
        }
      ]
    },
    {
      "cell_type": "markdown",
      "metadata": {
        "id": "P3jKtZXHRtEH"
      },
      "source": [
        "# **Percobaan klasifikasi data baru untuk mendapatkan keputusan yang diinginkan**"
      ]
    },
    {
      "cell_type": "markdown",
      "metadata": {
        "id": "5xQM8V4JRJ2M"
      },
      "source": [
        "> Percobaan klasifikasi data baru dengan mendeklarasikan dataframe baru"
      ]
    },
    {
      "cell_type": "code",
      "source": [
        "x_train.describe()"
      ],
      "metadata": {
        "colab": {
          "base_uri": "https://localhost:8080/",
          "height": 300
        },
        "id": "wJFmaqXc7s4C",
        "outputId": "086940ca-4ffc-4dbc-b9a6-a0285e3dcbcb"
      },
      "execution_count": null,
      "outputs": [
        {
          "output_type": "execute_result",
          "data": {
            "text/html": [
              "\n",
              "  <div id=\"df-f6e2c385-89e1-45b5-8389-7752efcea4a5\">\n",
              "    <div class=\"colab-df-container\">\n",
              "      <div>\n",
              "<style scoped>\n",
              "    .dataframe tbody tr th:only-of-type {\n",
              "        vertical-align: middle;\n",
              "    }\n",
              "\n",
              "    .dataframe tbody tr th {\n",
              "        vertical-align: top;\n",
              "    }\n",
              "\n",
              "    .dataframe thead th {\n",
              "        text-align: right;\n",
              "    }\n",
              "</style>\n",
              "<table border=\"1\" class=\"dataframe\">\n",
              "  <thead>\n",
              "    <tr style=\"text-align: right;\">\n",
              "      <th></th>\n",
              "      <th>studytime</th>\n",
              "      <th>famrel</th>\n",
              "      <th>absences</th>\n",
              "      <th>G1</th>\n",
              "      <th>famsup_no</th>\n",
              "      <th>famsup_yes</th>\n",
              "      <th>paid_no</th>\n",
              "      <th>paid_yes</th>\n",
              "    </tr>\n",
              "  </thead>\n",
              "  <tbody>\n",
              "    <tr>\n",
              "      <th>count</th>\n",
              "      <td>133.000000</td>\n",
              "      <td>133.000000</td>\n",
              "      <td>133.000000</td>\n",
              "      <td>133.000000</td>\n",
              "      <td>133.000000</td>\n",
              "      <td>133.000000</td>\n",
              "      <td>133.000000</td>\n",
              "      <td>133.000000</td>\n",
              "    </tr>\n",
              "    <tr>\n",
              "      <th>mean</th>\n",
              "      <td>1.924812</td>\n",
              "      <td>4.172932</td>\n",
              "      <td>4.007519</td>\n",
              "      <td>11.714286</td>\n",
              "      <td>0.338346</td>\n",
              "      <td>0.661654</td>\n",
              "      <td>0.481203</td>\n",
              "      <td>0.518797</td>\n",
              "    </tr>\n",
              "    <tr>\n",
              "      <th>std</th>\n",
              "      <td>0.713761</td>\n",
              "      <td>0.690973</td>\n",
              "      <td>4.238168</td>\n",
              "      <td>3.211182</td>\n",
              "      <td>0.474936</td>\n",
              "      <td>0.474936</td>\n",
              "      <td>0.501536</td>\n",
              "      <td>0.501536</td>\n",
              "    </tr>\n",
              "    <tr>\n",
              "      <th>min</th>\n",
              "      <td>1.000000</td>\n",
              "      <td>3.000000</td>\n",
              "      <td>0.000000</td>\n",
              "      <td>5.000000</td>\n",
              "      <td>0.000000</td>\n",
              "      <td>0.000000</td>\n",
              "      <td>0.000000</td>\n",
              "      <td>0.000000</td>\n",
              "    </tr>\n",
              "    <tr>\n",
              "      <th>25%</th>\n",
              "      <td>1.000000</td>\n",
              "      <td>4.000000</td>\n",
              "      <td>0.000000</td>\n",
              "      <td>9.000000</td>\n",
              "      <td>0.000000</td>\n",
              "      <td>0.000000</td>\n",
              "      <td>0.000000</td>\n",
              "      <td>0.000000</td>\n",
              "    </tr>\n",
              "    <tr>\n",
              "      <th>50%</th>\n",
              "      <td>2.000000</td>\n",
              "      <td>4.000000</td>\n",
              "      <td>2.000000</td>\n",
              "      <td>12.000000</td>\n",
              "      <td>0.000000</td>\n",
              "      <td>1.000000</td>\n",
              "      <td>0.000000</td>\n",
              "      <td>1.000000</td>\n",
              "    </tr>\n",
              "    <tr>\n",
              "      <th>75%</th>\n",
              "      <td>2.000000</td>\n",
              "      <td>5.000000</td>\n",
              "      <td>6.000000</td>\n",
              "      <td>14.000000</td>\n",
              "      <td>1.000000</td>\n",
              "      <td>1.000000</td>\n",
              "      <td>1.000000</td>\n",
              "      <td>1.000000</td>\n",
              "    </tr>\n",
              "    <tr>\n",
              "      <th>max</th>\n",
              "      <td>3.000000</td>\n",
              "      <td>5.000000</td>\n",
              "      <td>18.000000</td>\n",
              "      <td>18.000000</td>\n",
              "      <td>1.000000</td>\n",
              "      <td>1.000000</td>\n",
              "      <td>1.000000</td>\n",
              "      <td>1.000000</td>\n",
              "    </tr>\n",
              "  </tbody>\n",
              "</table>\n",
              "</div>\n",
              "      <button class=\"colab-df-convert\" onclick=\"convertToInteractive('df-f6e2c385-89e1-45b5-8389-7752efcea4a5')\"\n",
              "              title=\"Convert this dataframe to an interactive table.\"\n",
              "              style=\"display:none;\">\n",
              "        \n",
              "  <svg xmlns=\"http://www.w3.org/2000/svg\" height=\"24px\"viewBox=\"0 0 24 24\"\n",
              "       width=\"24px\">\n",
              "    <path d=\"M0 0h24v24H0V0z\" fill=\"none\"/>\n",
              "    <path d=\"M18.56 5.44l.94 2.06.94-2.06 2.06-.94-2.06-.94-.94-2.06-.94 2.06-2.06.94zm-11 1L8.5 8.5l.94-2.06 2.06-.94-2.06-.94L8.5 2.5l-.94 2.06-2.06.94zm10 10l.94 2.06.94-2.06 2.06-.94-2.06-.94-.94-2.06-.94 2.06-2.06.94z\"/><path d=\"M17.41 7.96l-1.37-1.37c-.4-.4-.92-.59-1.43-.59-.52 0-1.04.2-1.43.59L10.3 9.45l-7.72 7.72c-.78.78-.78 2.05 0 2.83L4 21.41c.39.39.9.59 1.41.59.51 0 1.02-.2 1.41-.59l7.78-7.78 2.81-2.81c.8-.78.8-2.07 0-2.86zM5.41 20L4 18.59l7.72-7.72 1.47 1.35L5.41 20z\"/>\n",
              "  </svg>\n",
              "      </button>\n",
              "      \n",
              "  <style>\n",
              "    .colab-df-container {\n",
              "      display:flex;\n",
              "      flex-wrap:wrap;\n",
              "      gap: 12px;\n",
              "    }\n",
              "\n",
              "    .colab-df-convert {\n",
              "      background-color: #E8F0FE;\n",
              "      border: none;\n",
              "      border-radius: 50%;\n",
              "      cursor: pointer;\n",
              "      display: none;\n",
              "      fill: #1967D2;\n",
              "      height: 32px;\n",
              "      padding: 0 0 0 0;\n",
              "      width: 32px;\n",
              "    }\n",
              "\n",
              "    .colab-df-convert:hover {\n",
              "      background-color: #E2EBFA;\n",
              "      box-shadow: 0px 1px 2px rgba(60, 64, 67, 0.3), 0px 1px 3px 1px rgba(60, 64, 67, 0.15);\n",
              "      fill: #174EA6;\n",
              "    }\n",
              "\n",
              "    [theme=dark] .colab-df-convert {\n",
              "      background-color: #3B4455;\n",
              "      fill: #D2E3FC;\n",
              "    }\n",
              "\n",
              "    [theme=dark] .colab-df-convert:hover {\n",
              "      background-color: #434B5C;\n",
              "      box-shadow: 0px 1px 3px 1px rgba(0, 0, 0, 0.15);\n",
              "      filter: drop-shadow(0px 1px 2px rgba(0, 0, 0, 0.3));\n",
              "      fill: #FFFFFF;\n",
              "    }\n",
              "  </style>\n",
              "\n",
              "      <script>\n",
              "        const buttonEl =\n",
              "          document.querySelector('#df-f6e2c385-89e1-45b5-8389-7752efcea4a5 button.colab-df-convert');\n",
              "        buttonEl.style.display =\n",
              "          google.colab.kernel.accessAllowed ? 'block' : 'none';\n",
              "\n",
              "        async function convertToInteractive(key) {\n",
              "          const element = document.querySelector('#df-f6e2c385-89e1-45b5-8389-7752efcea4a5');\n",
              "          const dataTable =\n",
              "            await google.colab.kernel.invokeFunction('convertToInteractive',\n",
              "                                                     [key], {});\n",
              "          if (!dataTable) return;\n",
              "\n",
              "          const docLinkHtml = 'Like what you see? Visit the ' +\n",
              "            '<a target=\"_blank\" href=https://colab.research.google.com/notebooks/data_table.ipynb>data table notebook</a>'\n",
              "            + ' to learn more about interactive tables.';\n",
              "          element.innerHTML = '';\n",
              "          dataTable['output_type'] = 'display_data';\n",
              "          await google.colab.output.renderOutput(dataTable, element);\n",
              "          const docLink = document.createElement('div');\n",
              "          docLink.innerHTML = docLinkHtml;\n",
              "          element.appendChild(docLink);\n",
              "        }\n",
              "      </script>\n",
              "    </div>\n",
              "  </div>\n",
              "  "
            ],
            "text/plain": [
              "        studytime      famrel    absences  ...  famsup_yes     paid_no    paid_yes\n",
              "count  133.000000  133.000000  133.000000  ...  133.000000  133.000000  133.000000\n",
              "mean     1.924812    4.172932    4.007519  ...    0.661654    0.481203    0.518797\n",
              "std      0.713761    0.690973    4.238168  ...    0.474936    0.501536    0.501536\n",
              "min      1.000000    3.000000    0.000000  ...    0.000000    0.000000    0.000000\n",
              "25%      1.000000    4.000000    0.000000  ...    0.000000    0.000000    0.000000\n",
              "50%      2.000000    4.000000    2.000000  ...    1.000000    0.000000    1.000000\n",
              "75%      2.000000    5.000000    6.000000  ...    1.000000    1.000000    1.000000\n",
              "max      3.000000    5.000000   18.000000  ...    1.000000    1.000000    1.000000\n",
              "\n",
              "[8 rows x 8 columns]"
            ]
          },
          "metadata": {},
          "execution_count": 92
        }
      ]
    },
    {
      "cell_type": "code",
      "metadata": {
        "id": "jiab8InfnBz-"
      },
      "source": [
        "new_data_df= pd.DataFrame({\n",
        "    \t'studytime':[3,2,1,2,2,3],\n",
        "      'famrel':[3,4,3,2,1,5],\n",
        "      'absences':[4,5,1,8,9,4],\n",
        "      'G1':[11,10,5,3,15,19],\n",
        "      'famsup_no':[0,0,0,1,1,1],\n",
        "      'famsup_yes':[1,1,1,0,0,0],\n",
        "      'paid_no':[1,0,1,0,1,0],\n",
        "      'paid_yes':[0,1,0,1,0,1],\n",
        "})"
      ],
      "execution_count": null,
      "outputs": []
    },
    {
      "cell_type": "markdown",
      "metadata": {
        "id": "pLdRxFxyrRfC"
      },
      "source": [
        "> Data baru akan diprediksi untuk mendapatkan hasil klasifikasinya\n",
        "\n",
        "> Prediksi probabilitas juga akan diambil.\n",
        "Catatan: Hasil probabilitas prediksi dengan hasil prediksi aslinya memiliki kemungkinan untuk berbeda"
      ]
    },
    {
      "cell_type": "code",
      "metadata": {
        "colab": {
          "base_uri": "https://localhost:8080/"
        },
        "id": "jzRAgwnWuBOt",
        "outputId": "0d6493aa-9b91-47e2-fdf8-42ae2dff32b0"
      },
      "source": [
        "new_predict = svc.predict(new_data_df)\n",
        "print(\"Kemungkinan kelulusan {} siswa adalah {}\".format(len(new_predict),le.inverse_transform(new_predict))) "
      ],
      "execution_count": null,
      "outputs": [
        {
          "output_type": "stream",
          "name": "stdout",
          "text": [
            "Kemungkinan kelulusan 6 siswa adalah ['Pass' 'Fail' 'Fail' 'Fail' 'Pass' 'Pass']\n"
          ]
        }
      ]
    },
    {
      "cell_type": "markdown",
      "metadata": {
        "id": "zikKbARcsEgB"
      },
      "source": [
        "> Kami menambahkan hasil prediksi kedalam dataframe new_data_df sehingga dapat dievaluasi pada saat ditampilkan"
      ]
    },
    {
      "cell_type": "code",
      "metadata": {
        "id": "xg4JtCo8bqt8",
        "colab": {
          "base_uri": "https://localhost:8080/",
          "height": 206
        },
        "outputId": "f82832f5-45fe-4258-ea45-7aee7a3f23c7"
      },
      "source": [
        "new_data_df['Status'] = le.inverse_transform(new_predict)\n",
        "new_data_df.head()"
      ],
      "execution_count": null,
      "outputs": [
        {
          "output_type": "execute_result",
          "data": {
            "text/html": [
              "\n",
              "  <div id=\"df-4524a30d-3b57-430f-b3a0-6af66710a314\">\n",
              "    <div class=\"colab-df-container\">\n",
              "      <div>\n",
              "<style scoped>\n",
              "    .dataframe tbody tr th:only-of-type {\n",
              "        vertical-align: middle;\n",
              "    }\n",
              "\n",
              "    .dataframe tbody tr th {\n",
              "        vertical-align: top;\n",
              "    }\n",
              "\n",
              "    .dataframe thead th {\n",
              "        text-align: right;\n",
              "    }\n",
              "</style>\n",
              "<table border=\"1\" class=\"dataframe\">\n",
              "  <thead>\n",
              "    <tr style=\"text-align: right;\">\n",
              "      <th></th>\n",
              "      <th>studytime</th>\n",
              "      <th>famrel</th>\n",
              "      <th>absences</th>\n",
              "      <th>G1</th>\n",
              "      <th>famsup_no</th>\n",
              "      <th>famsup_yes</th>\n",
              "      <th>paid_no</th>\n",
              "      <th>paid_yes</th>\n",
              "      <th>Status</th>\n",
              "    </tr>\n",
              "  </thead>\n",
              "  <tbody>\n",
              "    <tr>\n",
              "      <th>0</th>\n",
              "      <td>3</td>\n",
              "      <td>3</td>\n",
              "      <td>4</td>\n",
              "      <td>11</td>\n",
              "      <td>0</td>\n",
              "      <td>1</td>\n",
              "      <td>1</td>\n",
              "      <td>0</td>\n",
              "      <td>Pass</td>\n",
              "    </tr>\n",
              "    <tr>\n",
              "      <th>1</th>\n",
              "      <td>2</td>\n",
              "      <td>4</td>\n",
              "      <td>5</td>\n",
              "      <td>10</td>\n",
              "      <td>0</td>\n",
              "      <td>1</td>\n",
              "      <td>0</td>\n",
              "      <td>1</td>\n",
              "      <td>Fail</td>\n",
              "    </tr>\n",
              "    <tr>\n",
              "      <th>2</th>\n",
              "      <td>1</td>\n",
              "      <td>3</td>\n",
              "      <td>1</td>\n",
              "      <td>5</td>\n",
              "      <td>0</td>\n",
              "      <td>1</td>\n",
              "      <td>1</td>\n",
              "      <td>0</td>\n",
              "      <td>Fail</td>\n",
              "    </tr>\n",
              "    <tr>\n",
              "      <th>3</th>\n",
              "      <td>2</td>\n",
              "      <td>2</td>\n",
              "      <td>8</td>\n",
              "      <td>3</td>\n",
              "      <td>1</td>\n",
              "      <td>0</td>\n",
              "      <td>0</td>\n",
              "      <td>1</td>\n",
              "      <td>Fail</td>\n",
              "    </tr>\n",
              "    <tr>\n",
              "      <th>4</th>\n",
              "      <td>2</td>\n",
              "      <td>1</td>\n",
              "      <td>9</td>\n",
              "      <td>15</td>\n",
              "      <td>1</td>\n",
              "      <td>0</td>\n",
              "      <td>1</td>\n",
              "      <td>0</td>\n",
              "      <td>Pass</td>\n",
              "    </tr>\n",
              "  </tbody>\n",
              "</table>\n",
              "</div>\n",
              "      <button class=\"colab-df-convert\" onclick=\"convertToInteractive('df-4524a30d-3b57-430f-b3a0-6af66710a314')\"\n",
              "              title=\"Convert this dataframe to an interactive table.\"\n",
              "              style=\"display:none;\">\n",
              "        \n",
              "  <svg xmlns=\"http://www.w3.org/2000/svg\" height=\"24px\"viewBox=\"0 0 24 24\"\n",
              "       width=\"24px\">\n",
              "    <path d=\"M0 0h24v24H0V0z\" fill=\"none\"/>\n",
              "    <path d=\"M18.56 5.44l.94 2.06.94-2.06 2.06-.94-2.06-.94-.94-2.06-.94 2.06-2.06.94zm-11 1L8.5 8.5l.94-2.06 2.06-.94-2.06-.94L8.5 2.5l-.94 2.06-2.06.94zm10 10l.94 2.06.94-2.06 2.06-.94-2.06-.94-.94-2.06-.94 2.06-2.06.94z\"/><path d=\"M17.41 7.96l-1.37-1.37c-.4-.4-.92-.59-1.43-.59-.52 0-1.04.2-1.43.59L10.3 9.45l-7.72 7.72c-.78.78-.78 2.05 0 2.83L4 21.41c.39.39.9.59 1.41.59.51 0 1.02-.2 1.41-.59l7.78-7.78 2.81-2.81c.8-.78.8-2.07 0-2.86zM5.41 20L4 18.59l7.72-7.72 1.47 1.35L5.41 20z\"/>\n",
              "  </svg>\n",
              "      </button>\n",
              "      \n",
              "  <style>\n",
              "    .colab-df-container {\n",
              "      display:flex;\n",
              "      flex-wrap:wrap;\n",
              "      gap: 12px;\n",
              "    }\n",
              "\n",
              "    .colab-df-convert {\n",
              "      background-color: #E8F0FE;\n",
              "      border: none;\n",
              "      border-radius: 50%;\n",
              "      cursor: pointer;\n",
              "      display: none;\n",
              "      fill: #1967D2;\n",
              "      height: 32px;\n",
              "      padding: 0 0 0 0;\n",
              "      width: 32px;\n",
              "    }\n",
              "\n",
              "    .colab-df-convert:hover {\n",
              "      background-color: #E2EBFA;\n",
              "      box-shadow: 0px 1px 2px rgba(60, 64, 67, 0.3), 0px 1px 3px 1px rgba(60, 64, 67, 0.15);\n",
              "      fill: #174EA6;\n",
              "    }\n",
              "\n",
              "    [theme=dark] .colab-df-convert {\n",
              "      background-color: #3B4455;\n",
              "      fill: #D2E3FC;\n",
              "    }\n",
              "\n",
              "    [theme=dark] .colab-df-convert:hover {\n",
              "      background-color: #434B5C;\n",
              "      box-shadow: 0px 1px 3px 1px rgba(0, 0, 0, 0.15);\n",
              "      filter: drop-shadow(0px 1px 2px rgba(0, 0, 0, 0.3));\n",
              "      fill: #FFFFFF;\n",
              "    }\n",
              "  </style>\n",
              "\n",
              "      <script>\n",
              "        const buttonEl =\n",
              "          document.querySelector('#df-4524a30d-3b57-430f-b3a0-6af66710a314 button.colab-df-convert');\n",
              "        buttonEl.style.display =\n",
              "          google.colab.kernel.accessAllowed ? 'block' : 'none';\n",
              "\n",
              "        async function convertToInteractive(key) {\n",
              "          const element = document.querySelector('#df-4524a30d-3b57-430f-b3a0-6af66710a314');\n",
              "          const dataTable =\n",
              "            await google.colab.kernel.invokeFunction('convertToInteractive',\n",
              "                                                     [key], {});\n",
              "          if (!dataTable) return;\n",
              "\n",
              "          const docLinkHtml = 'Like what you see? Visit the ' +\n",
              "            '<a target=\"_blank\" href=https://colab.research.google.com/notebooks/data_table.ipynb>data table notebook</a>'\n",
              "            + ' to learn more about interactive tables.';\n",
              "          element.innerHTML = '';\n",
              "          dataTable['output_type'] = 'display_data';\n",
              "          await google.colab.output.renderOutput(dataTable, element);\n",
              "          const docLink = document.createElement('div');\n",
              "          docLink.innerHTML = docLinkHtml;\n",
              "          element.appendChild(docLink);\n",
              "        }\n",
              "      </script>\n",
              "    </div>\n",
              "  </div>\n",
              "  "
            ],
            "text/plain": [
              "   studytime  famrel  absences  G1  ...  famsup_yes  paid_no  paid_yes  Status\n",
              "0          3       3         4  11  ...           1        1         0    Pass\n",
              "1          2       4         5  10  ...           1        0         1    Fail\n",
              "2          1       3         1   5  ...           1        1         0    Fail\n",
              "3          2       2         8   3  ...           0        0         1    Fail\n",
              "4          2       1         9  15  ...           0        1         0    Pass\n",
              "\n",
              "[5 rows x 9 columns]"
            ]
          },
          "metadata": {},
          "execution_count": 95
        }
      ]
    },
    {
      "cell_type": "markdown",
      "metadata": {
        "id": "FHss-stapu4X"
      },
      "source": [
        "# **Pemograman Parallel Percepatan Parallelisme GridSearchCV**"
      ]
    },
    {
      "cell_type": "markdown",
      "metadata": {
        "id": "qFcLgpGYpyS9"
      },
      "source": [
        "> Multiprocessing dan Multithreading dengan GridSearchCV"
      ]
    },
    {
      "cell_type": "code",
      "metadata": {
        "id": "_CIdSSe5pxGF"
      },
      "source": [
        "from sklearn.model_selection import GridSearchCV\n",
        "# from joblib import parallel_backend\n",
        "from sklearn.utils import parallel_backend\n",
        "import time\n",
        "import os"
      ],
      "execution_count": null,
      "outputs": []
    },
    {
      "cell_type": "code",
      "metadata": {
        "id": "LlJFux6Bp_8c",
        "colab": {
          "base_uri": "https://localhost:8080/"
        },
        "outputId": "da8f5721-937f-487a-b73b-4a14a5bda767"
      },
      "source": [
        "PROCESS = os.cpu_count()\n",
        "print(PROCESS)"
      ],
      "execution_count": null,
      "outputs": [
        {
          "output_type": "stream",
          "name": "stdout",
          "text": [
            "2\n"
          ]
        }
      ]
    },
    {
      "cell_type": "code",
      "metadata": {
        "id": "jvGvc-ZxqAau",
        "colab": {
          "base_uri": "https://localhost:8080/"
        },
        "outputId": "0c73ec33-1c7e-46b4-f0c3-6517fdb34c11"
      },
      "source": [
        "param_grid = {'C': [0.1,1,10,100,1000],\n",
        "              'gamma': [1,0.1,0.01,0.001,0.0001],\n",
        "              'kernel':['rbf','poly','sigmoid','linear'],\n",
        "              'random_state':[0], \n",
        "              'class_weight':['balanced']\n",
        "}\n",
        "cv = 10\n",
        "\n",
        "svc_hp = GridSearchCV(svm.SVC(),param_grid,n_jobs=None, cv=cv)\n",
        "\n",
        "start_ms = time.perf_counter() * 1000\n",
        "svc_hp.fit(x_train,y_train)\n",
        "\n",
        "print(\"Best params : {}\".format(svc_hp.best_params_))\n",
        "print(\"Accuracy of training: {} and testing: {}\".format(svc_hp.score(x_train,y_train), svc_hp.score(x_test,y_test)))\n",
        "\n",
        "end_ms = time.perf_counter() * 1000\n",
        "serial_time = end_ms - start_ms\n",
        "print(\"Total time {} ms\".format(serial_time))"
      ],
      "execution_count": null,
      "outputs": [
        {
          "output_type": "stream",
          "name": "stdout",
          "text": [
            "Best params : {'C': 1000, 'class_weight': 'balanced', 'gamma': 0.0001, 'kernel': 'rbf', 'random_state': 0}\n",
            "Accuracy of training: 0.924812030075188 and testing: 0.9178082191780822\n",
            "Total time 19463.055254000006 ms\n"
          ]
        }
      ]
    },
    {
      "cell_type": "code",
      "metadata": {
        "id": "nEfCCXFnqKJk",
        "colab": {
          "base_uri": "https://localhost:8080/"
        },
        "outputId": "9233f256-7822-42c4-8c84-a9a623384cdd"
      },
      "source": [
        "#Parallel execution dengan n_jobs\n",
        "svc_hp = GridSearchCV(svm.SVC(),param_grid, n_jobs=-1, cv=cv)\n",
        "start_ms = time.perf_counter() * 1000\n",
        "svc_hp.fit(x_train,y_train)\n",
        "print(\"Best params : {}\".format(svc_hp.best_params_))\n",
        "print(\"Accuracy of training: {} and testing: {}\".format(svc_hp.score(x_train,y_train), svc_hp.score(x_test,y_test)))\n",
        "end_ms = time.perf_counter() * 1000\n",
        "parallel_time_grid = end_ms - start_ms\n",
        "print(\"Total time {} ms\".format(parallel_time_grid))"
      ],
      "execution_count": null,
      "outputs": [
        {
          "output_type": "stream",
          "name": "stdout",
          "text": [
            "Best params : {'C': 1000, 'class_weight': 'balanced', 'gamma': 0.0001, 'kernel': 'rbf', 'random_state': 0}\n",
            "Accuracy of training: 0.924812030075188 and testing: 0.9178082191780822\n",
            "Total time 18289.28542500001 ms\n"
          ]
        }
      ]
    },
    {
      "cell_type": "code",
      "metadata": {
        "id": "adcye6l2qQCY",
        "colab": {
          "base_uri": "https://localhost:8080/"
        },
        "outputId": "d1439bbf-6163-4e1e-b72e-85d8ecda0a43"
      },
      "source": [
        "#Parallel execution dengan menggunakan parallel_backend multiprocessing\n",
        "svc_hp = GridSearchCV(svm.SVC(),param_grid, n_jobs=-1, cv=cv)\n",
        "start_ms = time.perf_counter() * 1000\n",
        "with parallel_backend('multiprocessing', n_jobs=-1):\n",
        "  svc_hp.fit(x_train,y_train)\n",
        "  print(\"Best params : {}\".format(svc_hp.best_params_))\n",
        "  print(\"Accuracy of training: {} and testing: {}\".format(svc_hp.score(x_train,y_train), svc_hp.score(x_test,y_test)))\n",
        "\n",
        "end_ms = time.perf_counter() * 1000\n",
        "parallel_multiprocess_time = end_ms - start_ms\n",
        "print(\"Total time {} ms\".format(parallel_multiprocess_time))"
      ],
      "execution_count": null,
      "outputs": [
        {
          "output_type": "stream",
          "name": "stdout",
          "text": [
            "Best params : {'C': 1000, 'class_weight': 'balanced', 'gamma': 0.0001, 'kernel': 'rbf', 'random_state': 0}\n",
            "Accuracy of training: 0.924812030075188 and testing: 0.9178082191780822\n",
            "Total time 16676.862316999934 ms\n"
          ]
        }
      ]
    },
    {
      "cell_type": "code",
      "metadata": {
        "id": "SzeRV6JwqZS1",
        "colab": {
          "base_uri": "https://localhost:8080/"
        },
        "outputId": "b0e15f2d-8477-402c-8f86-eab0e277c477"
      },
      "source": [
        "#Parallel execution dengan menggunakan parallel_backend multithreading\n",
        "svc_hp = GridSearchCV(svm.SVC(),param_grid, n_jobs=-1, cv=cv)\n",
        "start_ms = time.perf_counter() * 1000\n",
        "with parallel_backend('threading', n_jobs=4*PROCESS):\n",
        "  svc_hp.fit(x_train,y_train)\n",
        "  print(\"Best params : {}\".format(svc_hp.best_params_))\n",
        "  print(\"Accuracy of training: {} and testing: {}\".format(svc_hp.score(x_train,y_train), svc_hp.score(x_test,y_test)))\n",
        "\n",
        "end_ms = time.perf_counter() * 1000\n",
        "parallel_threading_time = end_ms - start_ms\n",
        "print(\"Total time {} ms\".format(parallel_threading_time))"
      ],
      "execution_count": null,
      "outputs": [
        {
          "output_type": "stream",
          "name": "stdout",
          "text": [
            "Best params : {'C': 1000, 'class_weight': 'balanced', 'gamma': 0.0001, 'kernel': 'rbf', 'random_state': 0}\n",
            "Accuracy of training: 0.924812030075188 and testing: 0.9178082191780822\n",
            "Total time 18765.895929000108 ms\n"
          ]
        }
      ]
    },
    {
      "cell_type": "markdown",
      "source": [
        "> Dask"
      ],
      "metadata": {
        "id": "T2_cVe8PI-4D"
      }
    },
    {
      "cell_type": "code",
      "source": [
        "%pip install \"dask[distributed]\""
      ],
      "metadata": {
        "colab": {
          "base_uri": "https://localhost:8080/"
        },
        "id": "1C8Dp1AFKeWJ",
        "outputId": "adbdb42c-9e42-45fe-c591-4a667ef47141"
      },
      "execution_count": null,
      "outputs": [
        {
          "output_type": "stream",
          "name": "stdout",
          "text": [
            "Requirement already satisfied: dask[distributed] in /usr/local/lib/python3.7/dist-packages (2.12.0)\n",
            "Requirement already satisfied: distributed>=2.0 in /usr/local/lib/python3.7/dist-packages (from dask[distributed]) (2.30.1)\n",
            "Requirement already satisfied: sortedcontainers!=2.0.0,!=2.0.1 in /usr/local/lib/python3.7/dist-packages (from distributed>=2.0->dask[distributed]) (2.4.0)\n",
            "Requirement already satisfied: psutil>=5.0 in /usr/local/lib/python3.7/dist-packages (from distributed>=2.0->dask[distributed]) (5.4.8)\n",
            "Requirement already satisfied: setuptools in /usr/local/lib/python3.7/dist-packages (from distributed>=2.0->dask[distributed]) (57.4.0)\n",
            "Requirement already satisfied: tornado>=5 in /usr/local/lib/python3.7/dist-packages (from distributed>=2.0->dask[distributed]) (5.1.1)\n",
            "Requirement already satisfied: click>=6.6 in /usr/local/lib/python3.7/dist-packages (from distributed>=2.0->dask[distributed]) (7.1.2)\n",
            "Requirement already satisfied: msgpack>=0.6.0 in /usr/local/lib/python3.7/dist-packages (from distributed>=2.0->dask[distributed]) (1.0.3)\n",
            "Requirement already satisfied: cloudpickle>=1.5.0 in /usr/local/lib/python3.7/dist-packages (from distributed>=2.0->dask[distributed]) (2.0.0)\n",
            "Requirement already satisfied: zict>=0.1.3 in /usr/local/lib/python3.7/dist-packages (from distributed>=2.0->dask[distributed]) (2.0.0)\n",
            "Requirement already satisfied: pyyaml in /usr/local/lib/python3.7/dist-packages (from distributed>=2.0->dask[distributed]) (3.13)\n",
            "Requirement already satisfied: tblib>=1.6.0 in /usr/local/lib/python3.7/dist-packages (from distributed>=2.0->dask[distributed]) (1.7.0)\n",
            "Requirement already satisfied: toolz>=0.8.2 in /usr/local/lib/python3.7/dist-packages (from distributed>=2.0->dask[distributed]) (0.11.2)\n",
            "Requirement already satisfied: heapdict in /usr/local/lib/python3.7/dist-packages (from zict>=0.1.3->distributed>=2.0->dask[distributed]) (1.0.1)\n"
          ]
        }
      ]
    },
    {
      "cell_type": "code",
      "source": [
        "from dask.distributed import Client, progress\n",
        "client = Client(processes=False, threads_per_worker=4,n_workers=1, memory_limit='2GB')"
      ],
      "metadata": {
        "id": "YD-4qGi_JBjn",
        "colab": {
          "base_uri": "https://localhost:8080/"
        },
        "outputId": "5370ef6b-498f-4139-da2e-0b35cb288c5e"
      },
      "execution_count": null,
      "outputs": [
        {
          "output_type": "stream",
          "name": "stderr",
          "text": [
            "/usr/local/lib/python3.7/dist-packages/distributed/node.py:155: UserWarning: Port 8787 is already in use.\n",
            "Perhaps you already have a cluster running?\n",
            "Hosting the HTTP server on port 44601 instead\n",
            "  http_address[\"port\"], self.http_server.port\n"
          ]
        }
      ]
    },
    {
      "cell_type": "code",
      "source": [
        "svc_hp = GridSearchCV(svm.SVC(),param_grid, n_jobs=-1, cv=cv)\n",
        "\n",
        "start_ms = time.perf_counter() * 1000\n",
        "with parallel_backend('dask'):\n",
        "  svc_hp.fit(x_train,y_train)\n",
        "  print(\"Best params : {}\".format(svc_hp.best_params_))\n",
        "  print(\"Accuracy of training: {} and testing: {}\".format(svc_hp.score(x_train,y_train), svc_hp.score(x_test,y_test)))\n",
        "\n",
        "end_ms = time.perf_counter() * 1000\n",
        "parallel_dask_time = end_ms - start_ms\n",
        "print(\"Total time {} ms\".format(parallel_dask_time))"
      ],
      "metadata": {
        "colab": {
          "base_uri": "https://localhost:8080/"
        },
        "id": "Ii0hdt7dHKQm",
        "outputId": "2d1a895d-54c8-482a-a25f-74bf5776bbd4"
      },
      "execution_count": null,
      "outputs": [
        {
          "output_type": "stream",
          "name": "stdout",
          "text": [
            "Best params : {'C': 1000, 'class_weight': 'balanced', 'gamma': 0.0001, 'kernel': 'rbf', 'random_state': 0}\n",
            "Accuracy of training: 0.924812030075188 and testing: 0.9178082191780822\n",
            "Total time 36098.36677199998 ms\n"
          ]
        }
      ]
    },
    {
      "cell_type": "code",
      "source": [
        "client = Client(processes=True, n_workers=PROCESS, memory_limit='2GB')"
      ],
      "metadata": {
        "colab": {
          "base_uri": "https://localhost:8080/"
        },
        "id": "QaKkCx55PJlC",
        "outputId": "99b67124-ac19-49b2-f7a2-2d038463b415"
      },
      "execution_count": null,
      "outputs": [
        {
          "output_type": "stream",
          "name": "stderr",
          "text": [
            "/usr/local/lib/python3.7/dist-packages/distributed/node.py:155: UserWarning: Port 8787 is already in use.\n",
            "Perhaps you already have a cluster running?\n",
            "Hosting the HTTP server on port 40475 instead\n",
            "  http_address[\"port\"], self.http_server.port\n"
          ]
        }
      ]
    },
    {
      "cell_type": "code",
      "source": [
        "svc_hp = GridSearchCV(svm.SVC(),param_grid, n_jobs=-1, cv=cv)\n",
        "\n",
        "start_ms = time.perf_counter() * 1000\n",
        "with parallel_backend('dask'):\n",
        "  svc_hp.fit(x_train,y_train)\n",
        "  print(\"Best params : {}\".format(svc_hp.best_params_))\n",
        "  print(\"Accuracy of training: {} and testing: {}\".format(svc_hp.score(x_train,y_train), svc_hp.score(x_test,y_test)))\n",
        "\n",
        "end_ms = time.perf_counter() * 1000\n",
        "parallel_dask_mp_time = end_ms - start_ms\n",
        "print(\"Total time {} ms\".format(parallel_dask_mp_time))"
      ],
      "metadata": {
        "colab": {
          "base_uri": "https://localhost:8080/"
        },
        "id": "m2H-VQ8aPPUw",
        "outputId": "7d6f8b20-efcd-445e-af2d-a094ef744136"
      },
      "execution_count": null,
      "outputs": [
        {
          "output_type": "stream",
          "name": "stdout",
          "text": [
            "Best params : {'C': 1000, 'class_weight': 'balanced', 'gamma': 0.0001, 'kernel': 'rbf', 'random_state': 0}\n",
            "Accuracy of training: 0.924812030075188 and testing: 0.9178082191780822\n",
            "Total time 43488.146532999934 ms\n"
          ]
        }
      ]
    },
    {
      "cell_type": "markdown",
      "metadata": {
        "id": "B7qityuxqdSt"
      },
      "source": [
        "> Speedup dan Efisiensi"
      ]
    },
    {
      "cell_type": "code",
      "metadata": {
        "id": "5U1mFUQYqgjh",
        "colab": {
          "base_uri": "https://localhost:8080/"
        },
        "outputId": "1904fa31-242f-430c-cfe2-23dffb560f22"
      },
      "source": [
        "speed_up_gridsearch = serial_time / parallel_time_grid\n",
        "speed_up_process = serial_time / parallel_multiprocess_time\n",
        "speed_up_thread  = serial_time / parallel_threading_time\n",
        "# speed_up_spark = serial_time / parallel_spark_time\n",
        "speed_up_dask = serial_time / parallel_dask_time\n",
        "speed_up_dask_mp = serial_time / parallel_dask_mp_time\n",
        "efficiency = 100*(serial_time/parallel_multiprocess_time)/PROCESS\n",
        "print(\"Efficiency Multiprocessing : {}%\".format(round(efficiency,1)))\n",
        "print(\"Speed up GridSearchCV : {}\".format(speed_up_gridsearch))\n",
        "print(\"Speed up multithreading : {}\".format(speed_up_thread))\n",
        "print(\"Speed up multiprocessing : {}\".format(speed_up_process))\n",
        "# print(\"Speed up spark : {}\".format(speed_up_spark))\n",
        "print(\"Speed up dask threading : {}\".format(speed_up_dask))\n",
        "print(\"Speed up dask processing : {}\".format(speed_up_dask_mp))"
      ],
      "execution_count": null,
      "outputs": [
        {
          "output_type": "stream",
          "name": "stdout",
          "text": [
            "Efficiency Multiprocessing : 58.4%\n",
            "Speed up GridSearchCV : 1.0641780037723916\n",
            "Speed up multithreading : 1.0371503352484512\n",
            "Speed up multiprocessing : 1.1670693733652706\n",
            "Speed up dask threading : 0.5391671976998333\n",
            "Speed up dask processing : 0.4475485116209985\n"
          ]
        }
      ]
    },
    {
      "cell_type": "markdown",
      "source": [
        "> Berdasarkan performa penggunaan Google Colab dalam pengujian percepatan hypertuning parameter dengan menggunakan GridSearchCV, ditemukan bahwa metode dengan performa terbaik merupakan metode multiprocessing dengan besar speed up 1.17 yang menghasilkan efisiensi penggunaan processor sebesar 58,4% yang diikuti dengan parallelisme GridSearchCV sebesar 1.06\n",
        "\n",
        "> Berdasarkan komputer local RAM 4GB, i5-8250u didapatkan multithreading sebagai teknik yang terbaik dengan speed up sebesar 2.14 yang diikuti oleh dask threading sebesar 1.41"
      ],
      "metadata": {
        "id": "tolkwwUpQP0V"
      }
    },
    {
      "cell_type": "markdown",
      "source": [
        "# **Parallelisasi RandomizeSearch**"
      ],
      "metadata": {
        "id": "SnYYy6Eb3AYs"
      }
    },
    {
      "cell_type": "markdown",
      "source": [
        "> Serial Execution"
      ],
      "metadata": {
        "id": "YcU_W4yk3g-r"
      }
    },
    {
      "cell_type": "code",
      "source": [
        "from sklearn.model_selection import RandomizedSearchCV\n",
        "\n",
        "param_grid = {'C': [0.1,1,10,100,1000],\n",
        "              'gamma': [1,0.1,0.01,0.001,0.0001],\n",
        "              'kernel':['rbf','poly','sigmoid','linear'],\n",
        "              'random_state':[0], \n",
        "              'class_weight':['balanced']\n",
        "}\n",
        "cv = 10\n",
        "\n",
        "svc_hp = RandomizedSearchCV(svm.SVC(),param_grid,n_jobs=None, cv=cv)\n",
        "\n",
        "start_ms = time.perf_counter() * 1000\n",
        "svc_hp.fit(x_train,y_train)\n",
        "\n",
        "print(\"Best params : {}\".format(svc_hp.best_params_))\n",
        "print(\"Accuracy of training: {} and testing: {}\".format(svc_hp.score(x_train,y_train), svc_hp.score(x_test,y_test)))\n",
        "\n",
        "end_ms = time.perf_counter() * 1000\n",
        "serial_time = end_ms - start_ms\n",
        "print(\"Total time {} ms\".format(serial_time))\n"
      ],
      "metadata": {
        "colab": {
          "base_uri": "https://localhost:8080/"
        },
        "id": "LSJF4VYm3DyE",
        "outputId": "91bc4c32-d96b-43ba-b523-15e757c8dcf1"
      },
      "execution_count": null,
      "outputs": [
        {
          "output_type": "stream",
          "name": "stdout",
          "text": [
            "Best params : {'random_state': 0, 'kernel': 'linear', 'gamma': 1, 'class_weight': 'balanced', 'C': 0.1}\n",
            "Accuracy of training: 0.9172932330827067 and testing: 0.9041095890410958\n",
            "Total time 2015.4872109997086 ms\n"
          ]
        }
      ]
    },
    {
      "cell_type": "markdown",
      "source": [
        "> Parallel RandomizeSearch"
      ],
      "metadata": {
        "id": "lqm8XFE73jja"
      }
    },
    {
      "cell_type": "code",
      "source": [
        "svc_hp = RandomizedSearchCV(svm.SVC(),param_grid,n_jobs=-1, cv=cv)\n",
        "\n",
        "start_ms = time.perf_counter() * 1000\n",
        "svc_hp.fit(x_train,y_train)\n",
        "print(\"Best params : {}\".format(svc_hp.best_params_))\n",
        "print(\"Accuracy of training: {} and testing: {}\".format(svc_hp.score(x_train,y_train), svc_hp.score(x_test,y_test)))\n",
        "\n",
        "end_ms = time.perf_counter() * 1000\n",
        "parallel_time_randomized = end_ms - start_ms\n",
        "print(\"Total time {} ms\".format(parallel_time_randomized))"
      ],
      "metadata": {
        "colab": {
          "base_uri": "https://localhost:8080/"
        },
        "id": "fD2UCzSZ3ntq",
        "outputId": "b06190a1-8be1-4450-9948-f452dbb50463"
      },
      "execution_count": null,
      "outputs": [
        {
          "output_type": "stream",
          "name": "stdout",
          "text": [
            "Best params : {'random_state': 0, 'kernel': 'sigmoid', 'gamma': 0.001, 'class_weight': 'balanced', 'C': 100}\n",
            "Accuracy of training: 0.9172932330827067 and testing: 0.9041095890410958\n",
            "Total time 1480.0601170000155 ms\n"
          ]
        }
      ]
    },
    {
      "cell_type": "markdown",
      "source": [
        "> Parallel Backend Threading"
      ],
      "metadata": {
        "id": "iljVFWV13tHq"
      }
    },
    {
      "cell_type": "code",
      "source": [
        "svc_hp = RandomizedSearchCV(svm.SVC(),param_grid,n_jobs=-1, cv=cv)\n",
        "\n",
        "start_ms = time.perf_counter() * 1000\n",
        "with parallel_backend('threading', n_jobs=4*PROCESS):\n",
        "  svc_hp.fit(x_train,y_train)\n",
        "  print(\"Best params : {}\".format(svc_hp.best_params_))\n",
        "  print(\"Accuracy of training: {} and testing: {}\".format(svc_hp.score(x_train,y_train), svc_hp.score(x_test,y_test)))\n",
        "\n",
        "end_ms = time.perf_counter() * 1000\n",
        "parallel_threading_time = end_ms - start_ms\n",
        "print(\"Total time {} ms\".format(parallel_threading_time))"
      ],
      "metadata": {
        "colab": {
          "base_uri": "https://localhost:8080/"
        },
        "id": "7pwJmPzv3xC5",
        "outputId": "2b3e76b3-745f-4cc8-8613-461623495abe"
      },
      "execution_count": null,
      "outputs": [
        {
          "output_type": "stream",
          "name": "stdout",
          "text": [
            "Best params : {'random_state': 0, 'kernel': 'poly', 'gamma': 0.001, 'class_weight': 'balanced', 'C': 1000}\n",
            "Accuracy of training: 0.924812030075188 and testing: 0.8904109589041096\n",
            "Total time 1848.6350840001833 ms\n"
          ]
        }
      ]
    },
    {
      "cell_type": "markdown",
      "source": [
        "> Parallel Backend Multiprocessing"
      ],
      "metadata": {
        "id": "fkmVEUbI3u_7"
      }
    },
    {
      "cell_type": "code",
      "source": [
        "svc_hp = RandomizedSearchCV(svm.SVC(),param_grid,n_jobs=-1, cv=cv)\n",
        "\n",
        "start_ms = time.perf_counter() * 1000\n",
        "with parallel_backend('multiprocessing', n_jobs=-1):\n",
        "  svc_hp.fit(x_train,y_train)\n",
        "  print(\"Best params : {}\".format(svc_hp.best_params_))\n",
        "  print(\"Accuracy of training: {} and testing: {}\".format(svc_hp.score(x_train,y_train), svc_hp.score(x_test,y_test)))\n",
        "\n",
        "end_ms = time.perf_counter() * 1000\n",
        "parallel_multiprocess_time = end_ms - start_ms\n",
        "print(\"Total time {} ms\".format(parallel_multiprocess_time))"
      ],
      "metadata": {
        "colab": {
          "base_uri": "https://localhost:8080/"
        },
        "id": "OQdFSOKX3xfS",
        "outputId": "bf8e7149-7412-417f-f9f5-f2b55d15e484"
      },
      "execution_count": null,
      "outputs": [
        {
          "output_type": "stream",
          "name": "stdout",
          "text": [
            "Best params : {'random_state': 0, 'kernel': 'sigmoid', 'gamma': 0.0001, 'class_weight': 'balanced', 'C': 100}\n",
            "Accuracy of training: 0.8872180451127819 and testing: 0.8767123287671232\n",
            "Total time 2778.5026650000364 ms\n"
          ]
        }
      ]
    },
    {
      "cell_type": "code",
      "source": [
        "speed_up_randomizesearch = serial_time / parallel_time_randomized\n",
        "speed_up_process = serial_time / parallel_multiprocess_time\n",
        "speed_up_thread  = serial_time / parallel_threading_time\n",
        "efficiency = 100*(serial_time/parallel_multiprocess_time)/PROCESS\n",
        "print(\"Efficiency Multiprocessing : {}%\".format(round(efficiency,1)))\n",
        "print(\"Speed up RandomizeSearch : {}\".format(speed_up_randomizesearch))\n",
        "print(\"Speed up multithreading : {}\".format(speed_up_thread))\n",
        "print(\"Speed up multiprocessing : {}\".format(speed_up_process))"
      ],
      "metadata": {
        "colab": {
          "base_uri": "https://localhost:8080/"
        },
        "id": "S1QWXTHQ4UMG",
        "outputId": "0e4d6e18-e2b0-4974-e301-00d1c8ab456e"
      },
      "execution_count": null,
      "outputs": [
        {
          "output_type": "stream",
          "name": "stdout",
          "text": [
            "Efficiency Multiprocessing : 36.3%\n",
            "Speed up RandomizeSearch : 1.3617603689537752\n",
            "Speed up multithreading : 1.0902569297984332\n",
            "Speed up multiprocessing : 0.7253860996385556\n"
          ]
        }
      ]
    },
    {
      "cell_type": "markdown",
      "source": [
        "> Berdasarkan test diatas ditemukan bahwa percepatan metode randomized terbaik menggunakan built-in parallelisme RandomizedSearch dengan menggunakan parallel backend sebesar 1.36 speedup. Posisi kedua ialah multithreading sebesar 1.09"
      ],
      "metadata": {
        "id": "GN8953408Aan"
      }
    },
    {
      "cell_type": "markdown",
      "metadata": {
        "id": "ORmFSRiVqkBn"
      },
      "source": [
        "# **Multiprocessing dan Threading Lib Python**"
      ]
    },
    {
      "cell_type": "code",
      "source": [
        "from sklearn.model_selection import cross_val_score\n",
        "from statistics import mean"
      ],
      "metadata": {
        "id": "gv2vmUi5YPRv"
      },
      "execution_count": null,
      "outputs": []
    },
    {
      "cell_type": "code",
      "metadata": {
        "id": "Yx-DA2weq0tW",
        "colab": {
          "base_uri": "https://localhost:8080/"
        },
        "outputId": "8865e0c7-7671-4692-ef9d-4d2f91861134"
      },
      "source": [
        "#Serial\n",
        "model_performance = {}\n",
        "count = 0\n",
        "def hypertunning(C, G, K, randomState, classWeight):\n",
        "\n",
        "  svc = svm.SVC(C=C, gamma=G, kernel=K, random_state=randomState, class_weight=classWeight)\n",
        "  svc.fit(x_train, y_train)\n",
        "  score = cross_val_score(svc, x_test, y_test, cv=10)\n",
        "  global model_performance\n",
        "  global count\n",
        "  model_performance.update({\n",
        "      \"{}\".format(count):{\n",
        "          \"model\":svc,\n",
        "          \"validate_score_test\":score,\n",
        "          \"train_test_score\":svc.score(x_train, y_train)\n",
        "      }\n",
        "  })\n",
        "  count+=1\n",
        "\n",
        "def extract_model(dict_performance):\n",
        "    list_train_score = []\n",
        "    list_test_score = []\n",
        "    list_svc_model = []\n",
        "    for i in dict_performance.keys():\n",
        "      list_svc_model.append(dict_performance[i]['model'])\n",
        "      list_test_score.append(mean(dict_performance[i]['validate_score_test']))\n",
        "      list_train_score.append(dict_performance[i]['train_test_score'])\n",
        "    \n",
        "    return list_train_score, list_test_score, list_svc_model;\n",
        "\n",
        "def best_model(dict_performance):\n",
        "  list_train_score, list_test_score, list_svc_model = extract_model(dict_performance)\n",
        "  max_score = max(list_train_score)\n",
        "  max_index = list_train_score.index(max_score)\n",
        "  best_model = list_svc_model[max_index]\n",
        "  best_model_test = list_test_score[max_index]\n",
        "\n",
        "  return best_model, max_score, best_model_test\n",
        "\n",
        "\n",
        "if __name__ ==\"__main__\":\n",
        "  start_ms = time.perf_counter() * 1000\n",
        "  C = [0.1,1,10,100,1000]\n",
        "  gamma = [1,0.1,0.01,0.001,0.0001]\n",
        "  kernel = ['rbf','poly','sigmoid','linear']\n",
        "  random_state = 0\n",
        "  class_weight = 'balanced'\n",
        "  for c in C:\n",
        "    for g in gamma:\n",
        "      for k in kernel:\n",
        "        hypertunning(c, g, k, random_state, class_weight)\n",
        "\n",
        "  best_params, best_score, best_test_score = best_model(model_performance)\n",
        "  print(\"Best params {}\".format(best_params))\n",
        "  print(\"Train accuracy {}\".format(best_score))\n",
        "  print(\"Test accuracy {}\".format(best_test_score))\n",
        "\n",
        "  end_ms = time.perf_counter() * 1000\n",
        "  serial_time = end_ms - start_ms\n",
        "  print(\"Total serial execution time {} ms\".format(end_ms - start_ms))"
      ],
      "execution_count": null,
      "outputs": [
        {
          "output_type": "stream",
          "name": "stdout",
          "text": [
            "Best params SVC(C=1, class_weight='balanced', gamma=1, kernel='poly', random_state=0)\n",
            "Train accuracy 1.0\n",
            "Test accuracy 0.8482142857142857\n",
            "Total serial execution time 33366.467376000015 ms\n"
          ]
        }
      ]
    },
    {
      "cell_type": "code",
      "metadata": {
        "id": "5TrlypYGqqXW",
        "colab": {
          "base_uri": "https://localhost:8080/"
        },
        "outputId": "aff31776-1979-4828-fbff-b99e2fa9c0dc"
      },
      "source": [
        "#Multiprocessing\n",
        "from multiprocessing import Process, Manager\n",
        "count = 0\n",
        "def hypertunning(C, G, K, randomState, classWeight, data_dict):\n",
        "\n",
        "  svc = svm.SVC(C=C, gamma=G, kernel=K, random_state=randomState, class_weight=classWeight)\n",
        "  svc.fit(x_train, y_train)\n",
        "  score = cross_val_score(svc, x_test, y_test, cv=10)\n",
        "  global model_performance\n",
        "  global count\n",
        "  data_dict.update({\n",
        "      \"{}\".format(count):{\n",
        "          \"model\":svc,\n",
        "          \"validate_score_test\":score,\n",
        "          \"train_test_score\":svc.score(x_train, y_train)\n",
        "      }\n",
        "  })\n",
        "  count+=1\n",
        "\n",
        "def extract_model(dict_performance):\n",
        "    list_train_score = []\n",
        "    list_test_score = []\n",
        "    list_svc_model = []\n",
        "    for i in dict_performance.keys():\n",
        "      list_svc_model.append(dict_performance[i]['model'])\n",
        "      list_test_score.append(mean(dict_performance[i]['validate_score_test']))\n",
        "      list_train_score.append(dict_performance[i]['train_test_score'])\n",
        "    \n",
        "    return list_train_score, list_test_score, list_svc_model;\n",
        "\n",
        "def best_model(dict_performance):\n",
        "  list_train_score, list_test_score, list_svc_model = extract_model(dict_performance)\n",
        "  max_score = max(list_train_score)\n",
        "  max_index = list_train_score.index(max_score)\n",
        "  best_model = list_svc_model[max_index]\n",
        "  best_model_test = list_test_score[max_index]\n",
        "\n",
        "  return best_model, max_score, best_model_test\n",
        "\n",
        "\n",
        "if __name__ ==\"__main__\":\n",
        "  list_p = []\n",
        "  start_ms = time.perf_counter() * 1000\n",
        "  manager = Manager()\n",
        "  model_performance = manager.dict({})\n",
        "  C = [0.1,1,10,100,1000]\n",
        "  gamma = [1,0.1,0.01,0.001,0.0001]\n",
        "  kernel = ['rbf','poly','sigmoid','linear']\n",
        "  random_state = 0\n",
        "  class_weight = 'balanced'\n",
        "  for c in C:\n",
        "    for g in gamma:\n",
        "      for k in kernel:\n",
        "        p = Process(target = hypertunning, args=(c, g, k, random_state, class_weight, model_performance))\n",
        "        p.start()\n",
        "        list_p.append(p)\n",
        "  \n",
        "  for process in list_p:\n",
        "    process.join()\n",
        "\n",
        "  best_params, best_score, best_test_score = best_model(model_performance)\n",
        "  print(\"Best params {}\".format(best_params))\n",
        "  print(\"Train accuracy {}\".format(best_score))\n",
        "  print(\"Test accuracy {}\".format(best_test_score))\n",
        "\n",
        "  end_ms = time.perf_counter() * 1000\n",
        "  multiprocessing_process = end_ms - start_ms\n",
        "  print(\"Total parallel multiprocessing execution time {} ms\".format(multiprocessing_process))"
      ],
      "execution_count": null,
      "outputs": [
        {
          "output_type": "stream",
          "name": "stdout",
          "text": [
            "Best params SVC(C=1000, class_weight='balanced', gamma=0.0001, kernel='linear',\n",
            "    random_state=0)\n",
            "Train accuracy 0.9172932330827067\n",
            "Test accuracy 0.9035714285714286\n",
            "Total parallel multiprocessing execution time 19020.67875799979 ms\n"
          ]
        }
      ]
    },
    {
      "cell_type": "markdown",
      "metadata": {
        "id": "_AlInouGp469"
      },
      "source": [
        "> Pool"
      ]
    },
    {
      "cell_type": "code",
      "metadata": {
        "id": "7kPwFumVp5sd",
        "colab": {
          "base_uri": "https://localhost:8080/"
        },
        "outputId": "e2e55827-70f8-4b48-c176-992aae3eb16b"
      },
      "source": [
        "from multiprocessing import Pool\n",
        "\n",
        "#Pool\n",
        "model_performance = {}\n",
        "count = 0\n",
        "def hypertunning(C, G, K, randomState, classWeight, data_dict):\n",
        "\n",
        "  svc = svm.SVC(C=C, gamma=G, kernel=K, random_state=randomState, class_weight=classWeight)\n",
        "  svc.fit(x_train, y_train)\n",
        "  score = cross_val_score(svc, x_test, y_test, cv=10)\n",
        "  global model_performance\n",
        "  global count\n",
        "  data_dict.update({\n",
        "      \"{}\".format(count):{\n",
        "          \"model\":svc,\n",
        "          \"validate_score_test\":score,\n",
        "          \"train_test_score\":svc.score(x_train, y_train)\n",
        "      }\n",
        "  })\n",
        "  count+=1\n",
        "\n",
        "def extract_model(dict_performance):\n",
        "    list_train_score = []\n",
        "    list_test_score = []\n",
        "    list_svc_model = []\n",
        "    for i in dict_performance.keys():\n",
        "      list_svc_model.append(dict_performance[i]['model'])\n",
        "      list_test_score.append(mean(dict_performance[i]['validate_score_test']))\n",
        "      list_train_score.append(dict_performance[i]['train_test_score'])\n",
        "    \n",
        "    return list_train_score, list_test_score, list_svc_model;\n",
        "\n",
        "def best_model(dict_performance):\n",
        "  list_train_score, list_test_score, list_svc_model = extract_model(dict_performance)\n",
        "  max_score = max(list_train_score)\n",
        "  max_index = list_train_score.index(max_score)\n",
        "  best_model = list_svc_model[max_index]\n",
        "  best_model_test = list_test_score[max_index]\n",
        "\n",
        "  return best_model, max_score, best_model_test\n",
        "\n",
        "\n",
        "if __name__ ==\"__main__\":\n",
        "  manager = Manager()\n",
        "  model_performance = manager.dict({})\n",
        "  start_ms = time.perf_counter() * 1000\n",
        "  C = [0.1,1,10,100,1000]\n",
        "  gamma = [1,0.1,0.01,0.001,0.0001]\n",
        "  kernel = ['rbf','poly','sigmoid','linear']\n",
        "  random_state = 0\n",
        "  class_weight = 'balanced'\n",
        "  with Pool(PROCESS) as p:\n",
        "    for c in C:\n",
        "      for g in gamma:\n",
        "        for k in kernel:\n",
        "          p.starmap(hypertunning, [(c, g, k, random_state, class_weight, model_performance)])\n",
        "\n",
        "  best_params, best_score, best_test_score = best_model(model_performance)\n",
        "  print(\"Best params {}\".format(best_params))\n",
        "  print(\"Train accuracy {}\".format(best_score))\n",
        "  print(\"Test accuracy {}\".format(best_test_score))\n",
        "\n",
        "  end_ms = time.perf_counter() * 1000\n",
        "  multiprocessing_pool = end_ms - start_ms\n",
        "  print(\"Total multiprocessing pool execution time {} ms\".format(multiprocessing_pool))"
      ],
      "execution_count": null,
      "outputs": [
        {
          "output_type": "stream",
          "name": "stdout",
          "text": [
            "Best params SVC(C=1, class_weight='balanced', gamma=1, kernel='poly', random_state=0)\n",
            "Train accuracy 1.0\n",
            "Test accuracy 0.8482142857142857\n",
            "Total multiprocessing pool execution time 15420.692235999973 ms\n"
          ]
        }
      ]
    },
    {
      "cell_type": "code",
      "metadata": {
        "id": "iV0gS9hOqxhm",
        "colab": {
          "base_uri": "https://localhost:8080/"
        },
        "outputId": "f00b2bd0-2ffd-49da-ef1a-38f8bb6bba53"
      },
      "source": [
        "import threading\n",
        "#Multithreading\n",
        "model_performance = {}\n",
        "count = 0\n",
        "def hypertunning(C, G, K, randomState, classWeight):\n",
        "\n",
        "  svc = svm.SVC(C=C, gamma=G, kernel=K, random_state=randomState, class_weight=classWeight)\n",
        "  svc.fit(x_train, y_train)\n",
        "  score = cross_val_score(svc, x_test, y_test, cv=10)\n",
        "  global model_performance\n",
        "  global count\n",
        "  model_performance.update({\n",
        "      \"{}\".format(count):{\n",
        "          \"model\":svc,\n",
        "          \"validate_score_test\":score,\n",
        "          \"train_test_score\":svc.score(x_train, y_train)\n",
        "      }\n",
        "  })\n",
        "  count+=1\n",
        "\n",
        "def extract_model(dict_performance):\n",
        "    list_train_score = []\n",
        "    list_test_score = []\n",
        "    list_svc_model = []\n",
        "    for i in dict_performance.keys():\n",
        "      list_svc_model.append(dict_performance[i]['model'])\n",
        "      list_test_score.append(mean(dict_performance[i]['validate_score_test']))\n",
        "      list_train_score.append(dict_performance[i]['train_test_score'])\n",
        "    \n",
        "    return list_train_score, list_test_score, list_svc_model;\n",
        "\n",
        "def best_model(dict_performance):\n",
        "  list_train_score, list_test_score, list_svc_model = extract_model(dict_performance)\n",
        "  max_score = max(list_train_score)\n",
        "  max_index = list_train_score.index(max_score)\n",
        "  best_model = list_svc_model[max_index]\n",
        "  best_model_test = list_test_score[max_index]\n",
        "\n",
        "  return best_model, max_score, best_model_test\n",
        "\n",
        "\n",
        "if __name__ ==\"__main__\":\n",
        "  list_t = []\n",
        "  start_ms = time.perf_counter() * 1000\n",
        "  C = [0.1,1,10,100,1000]\n",
        "  gamma = [1,0.1,0.01,0.001,0.0001]\n",
        "  kernel = ['rbf','poly','sigmoid','linear']\n",
        "  random_state = 0\n",
        "  class_weight = 'balanced'\n",
        "  for c in C:\n",
        "    for g in gamma:\n",
        "      for k in kernel:\n",
        "        t = threading.Thread(target=hypertunning, args=(c, g, k, random_state, class_weight))\n",
        "        t.start()\n",
        "        list_t.append(t)\n",
        "  \n",
        "  for thread in list_t:\n",
        "    thread.join()\n",
        "\n",
        "  best_params, best_score, best_test_score = best_model(model_performance)\n",
        "  print(\"Best params {}\".format(best_params))\n",
        "  print(\"Train accuracy {}\".format(best_score))\n",
        "  print(\"Test accuracy {}\".format(best_test_score))\n",
        "\n",
        "  end_ms = time.perf_counter() * 1000\n",
        "  multithreading = end_ms - start_ms\n",
        "  print(\"Total parallel multithreading execution time {} ms\".format(multithreading))"
      ],
      "execution_count": null,
      "outputs": [
        {
          "output_type": "stream",
          "name": "stdout",
          "text": [
            "Best params SVC(C=1, class_weight='balanced', gamma=1, kernel='poly', random_state=0)\n",
            "Train accuracy 1.0\n",
            "Test accuracy 0.8482142857142857\n",
            "Total parallel multithreading execution time 15268.433284000028 ms\n"
          ]
        }
      ]
    },
    {
      "cell_type": "code",
      "metadata": {
        "id": "3btm7rLOrRuJ",
        "colab": {
          "base_uri": "https://localhost:8080/"
        },
        "outputId": "7b7d4287-2786-4fcc-8891-5492ec027527"
      },
      "source": [
        "speed_multithreading = serial_time /  multithreading\n",
        "speed_multiprocessing = serial_time / multiprocessing_process\n",
        "speed_multiprocessing_pool = serial_time /  multiprocessing_pool\n",
        "efficiency_mp = 100*(serial_time/multiprocessing_process)/PROCESS\n",
        "efficiency_pl = 100*(serial_time/multiprocessing_pool)/PROCESS\n",
        "print(\"Efficiency Process : {}% | Pool : {}%\".format(round(efficiency_mp,1), round(efficiency_pl,1)))\n",
        "print(\"Speedup Multithreading | Multiprocessing | Pool are {} | {} | {}\".format(speed_multithreading,speed_multiprocessing,speed_multiprocessing_pool))"
      ],
      "execution_count": null,
      "outputs": [
        {
          "output_type": "stream",
          "name": "stdout",
          "text": [
            "Efficiency Process : 87.7% | Pool : 108.2%\n",
            "Speedup Multithreading | Multiprocessing | Pool are 2.1853235859480837 | 1.7542206458834502 | 2.163746404205202\n"
          ]
        }
      ]
    },
    {
      "cell_type": "markdown",
      "source": [
        "# **Referensi Parallel**\n",
        "* https://joblib.readthedocs.io/en/latest/parallel.html\n",
        "* https://docs.python.org/3/library/multiprocessing.html\n",
        "* https://realpython.com/intro-to-python-threading/\n",
        "* https://stackoverflow.com/questions/1559125/string-arguments-in-python-multiprocessing"
      ],
      "metadata": {
        "id": "qyUc36Y8EMeh"
      }
    }
  ]
}